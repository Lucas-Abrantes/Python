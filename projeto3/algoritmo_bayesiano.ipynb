{
 "cells": [
  {
   "cell_type": "code",
   "execution_count": 1,
   "metadata": {},
   "outputs": [],
   "source": [
    "import pandas as pd\n",
    "import numpy as np\n",
    "import pickle"
   ]
  },
  {
   "cell_type": "code",
   "execution_count": 3,
   "metadata": {},
   "outputs": [],
   "source": [
    "with open('galaxy.pkl', mode='rb') as f:\n",
    "    X_galaxy_treinamento, y_galaxy_treinamento, X_galaxy_teste, y_galaxy_teste =  pickle.load(f)"
   ]
  },
  {
   "cell_type": "code",
   "execution_count": 4,
   "metadata": {},
   "outputs": [
    {
     "data": {
      "text/plain": [
       "((75000, 8), (75000,))"
      ]
     },
     "execution_count": 4,
     "metadata": {},
     "output_type": "execute_result"
    }
   ],
   "source": [
    "X_galaxy_treinamento.shape, y_galaxy_treinamento.shape"
   ]
  },
  {
   "cell_type": "code",
   "execution_count": 5,
   "metadata": {},
   "outputs": [
    {
     "data": {
      "text/plain": [
       "((25000, 8), (25000,))"
      ]
     },
     "execution_count": 5,
     "metadata": {},
     "output_type": "execute_result"
    }
   ],
   "source": [
    "X_galaxy_teste.shape, y_galaxy_teste.shape"
   ]
  },
  {
   "cell_type": "code",
   "execution_count": 6,
   "metadata": {},
   "outputs": [],
   "source": [
    "from sklearn.naive_bayes import GaussianNB"
   ]
  },
  {
   "cell_type": "code",
   "execution_count": 7,
   "metadata": {},
   "outputs": [
    {
     "data": {
      "text/html": [
       "<style>#sk-container-id-1 {color: black;background-color: white;}#sk-container-id-1 pre{padding: 0;}#sk-container-id-1 div.sk-toggleable {background-color: white;}#sk-container-id-1 label.sk-toggleable__label {cursor: pointer;display: block;width: 100%;margin-bottom: 0;padding: 0.3em;box-sizing: border-box;text-align: center;}#sk-container-id-1 label.sk-toggleable__label-arrow:before {content: \"▸\";float: left;margin-right: 0.25em;color: #696969;}#sk-container-id-1 label.sk-toggleable__label-arrow:hover:before {color: black;}#sk-container-id-1 div.sk-estimator:hover label.sk-toggleable__label-arrow:before {color: black;}#sk-container-id-1 div.sk-toggleable__content {max-height: 0;max-width: 0;overflow: hidden;text-align: left;background-color: #f0f8ff;}#sk-container-id-1 div.sk-toggleable__content pre {margin: 0.2em;color: black;border-radius: 0.25em;background-color: #f0f8ff;}#sk-container-id-1 input.sk-toggleable__control:checked~div.sk-toggleable__content {max-height: 200px;max-width: 100%;overflow: auto;}#sk-container-id-1 input.sk-toggleable__control:checked~label.sk-toggleable__label-arrow:before {content: \"▾\";}#sk-container-id-1 div.sk-estimator input.sk-toggleable__control:checked~label.sk-toggleable__label {background-color: #d4ebff;}#sk-container-id-1 div.sk-label input.sk-toggleable__control:checked~label.sk-toggleable__label {background-color: #d4ebff;}#sk-container-id-1 input.sk-hidden--visually {border: 0;clip: rect(1px 1px 1px 1px);clip: rect(1px, 1px, 1px, 1px);height: 1px;margin: -1px;overflow: hidden;padding: 0;position: absolute;width: 1px;}#sk-container-id-1 div.sk-estimator {font-family: monospace;background-color: #f0f8ff;border: 1px dotted black;border-radius: 0.25em;box-sizing: border-box;margin-bottom: 0.5em;}#sk-container-id-1 div.sk-estimator:hover {background-color: #d4ebff;}#sk-container-id-1 div.sk-parallel-item::after {content: \"\";width: 100%;border-bottom: 1px solid gray;flex-grow: 1;}#sk-container-id-1 div.sk-label:hover label.sk-toggleable__label {background-color: #d4ebff;}#sk-container-id-1 div.sk-serial::before {content: \"\";position: absolute;border-left: 1px solid gray;box-sizing: border-box;top: 0;bottom: 0;left: 50%;z-index: 0;}#sk-container-id-1 div.sk-serial {display: flex;flex-direction: column;align-items: center;background-color: white;padding-right: 0.2em;padding-left: 0.2em;position: relative;}#sk-container-id-1 div.sk-item {position: relative;z-index: 1;}#sk-container-id-1 div.sk-parallel {display: flex;align-items: stretch;justify-content: center;background-color: white;position: relative;}#sk-container-id-1 div.sk-item::before, #sk-container-id-1 div.sk-parallel-item::before {content: \"\";position: absolute;border-left: 1px solid gray;box-sizing: border-box;top: 0;bottom: 0;left: 50%;z-index: -1;}#sk-container-id-1 div.sk-parallel-item {display: flex;flex-direction: column;z-index: 1;position: relative;background-color: white;}#sk-container-id-1 div.sk-parallel-item:first-child::after {align-self: flex-end;width: 50%;}#sk-container-id-1 div.sk-parallel-item:last-child::after {align-self: flex-start;width: 50%;}#sk-container-id-1 div.sk-parallel-item:only-child::after {width: 0;}#sk-container-id-1 div.sk-dashed-wrapped {border: 1px dashed gray;margin: 0 0.4em 0.5em 0.4em;box-sizing: border-box;padding-bottom: 0.4em;background-color: white;}#sk-container-id-1 div.sk-label label {font-family: monospace;font-weight: bold;display: inline-block;line-height: 1.2em;}#sk-container-id-1 div.sk-label-container {text-align: center;}#sk-container-id-1 div.sk-container {/* jupyter's `normalize.less` sets `[hidden] { display: none; }` but bootstrap.min.css set `[hidden] { display: none !important; }` so we also need the `!important` here to be able to override the default hidden behavior on the sphinx rendered scikit-learn.org. See: https://github.com/scikit-learn/scikit-learn/issues/21755 */display: inline-block !important;position: relative;}#sk-container-id-1 div.sk-text-repr-fallback {display: none;}</style><div id=\"sk-container-id-1\" class=\"sk-top-container\"><div class=\"sk-text-repr-fallback\"><pre>GaussianNB()</pre><b>In a Jupyter environment, please rerun this cell to show the HTML representation or trust the notebook. <br />On GitHub, the HTML representation is unable to render, please try loading this page with nbviewer.org.</b></div><div class=\"sk-container\" hidden><div class=\"sk-item\"><div class=\"sk-estimator sk-toggleable\"><input class=\"sk-toggleable__control sk-hidden--visually\" id=\"sk-estimator-id-1\" type=\"checkbox\" checked><label for=\"sk-estimator-id-1\" class=\"sk-toggleable__label sk-toggleable__label-arrow\">GaussianNB</label><div class=\"sk-toggleable__content\"><pre>GaussianNB()</pre></div></div></div></div></div>"
      ],
      "text/plain": [
       "GaussianNB()"
      ]
     },
     "execution_count": 7,
     "metadata": {},
     "output_type": "execute_result"
    }
   ],
   "source": [
    "naive_galaxy = GaussianNB()\n",
    "\n",
    "naive_galaxy.fit(X_galaxy_treinamento, y_galaxy_treinamento)"
   ]
  },
  {
   "cell_type": "code",
   "execution_count": 8,
   "metadata": {},
   "outputs": [
    {
     "data": {
      "text/plain": [
       "array([0, 1, 0, ..., 0, 0, 2], dtype=int64)"
      ]
     },
     "execution_count": 8,
     "metadata": {},
     "output_type": "execute_result"
    }
   ],
   "source": [
    "previsoes = naive_galaxy.predict(X_galaxy_teste)\n",
    "previsoes"
   ]
  },
  {
   "cell_type": "code",
   "execution_count": 9,
   "metadata": {},
   "outputs": [
    {
     "data": {
      "text/plain": [
       "array([0, 1, 0, ..., 0, 0, 0], dtype=int64)"
      ]
     },
     "execution_count": 9,
     "metadata": {},
     "output_type": "execute_result"
    }
   ],
   "source": [
    "y_galaxy_teste"
   ]
  },
  {
   "cell_type": "code",
   "execution_count": 10,
   "metadata": {},
   "outputs": [],
   "source": [
    "from sklearn.metrics import accuracy_score, confusion_matrix, classification_report"
   ]
  },
  {
   "cell_type": "code",
   "execution_count": 11,
   "metadata": {},
   "outputs": [
    {
     "data": {
      "text/plain": [
       "0.92212"
      ]
     },
     "execution_count": 11,
     "metadata": {},
     "output_type": "execute_result"
    }
   ],
   "source": [
    "accuracy_score(y_galaxy_teste, previsoes)"
   ]
  },
  {
   "cell_type": "code",
   "execution_count": 12,
   "metadata": {},
   "outputs": [],
   "source": [
    "from yellowbrick.classifier import ConfusionMatrix"
   ]
  },
  {
   "cell_type": "code",
   "execution_count": 13,
   "metadata": {},
   "outputs": [
    {
     "data": {
      "text/plain": [
       "0.92212"
      ]
     },
     "execution_count": 13,
     "metadata": {},
     "output_type": "execute_result"
    },
    {
     "data": {
      "image/png": "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",
      "text/plain": [
       "<Figure size 800x550 with 1 Axes>"
      ]
     },
     "metadata": {},
     "output_type": "display_data"
    }
   ],
   "source": [
    "cm = ConfusionMatrix(naive_galaxy)\n",
    "cm.fit(X_galaxy_treinamento, y_galaxy_treinamento)\n",
    "cm.score(X_galaxy_teste, y_galaxy_teste)"
   ]
  },
  {
   "cell_type": "code",
   "execution_count": 14,
   "metadata": {},
   "outputs": [
    {
     "name": "stdout",
     "output_type": "stream",
     "text": [
      "              precision    recall  f1-score   support\n",
      "\n",
      "           0       0.96      0.91      0.93     14805\n",
      "           1       0.77      0.88      0.82      4743\n",
      "           2       0.98      0.99      0.98      5452\n",
      "\n",
      "    accuracy                           0.92     25000\n",
      "   macro avg       0.90      0.93      0.91     25000\n",
      "weighted avg       0.93      0.92      0.92     25000\n",
      "\n"
     ]
    }
   ],
   "source": [
    "print(classification_report(y_galaxy_teste, previsoes))"
   ]
  }
 ],
 "metadata": {
  "kernelspec": {
   "display_name": "base",
   "language": "python",
   "name": "python3"
  },
  "language_info": {
   "codemirror_mode": {
    "name": "ipython",
    "version": 3
   },
   "file_extension": ".py",
   "mimetype": "text/x-python",
   "name": "python",
   "nbconvert_exporter": "python",
   "pygments_lexer": "ipython3",
<<<<<<< HEAD
   "version": "3.9.12"
=======
   "version": "3.11.4"
>>>>>>> 8b0ab9bc9997b3645f863f3f1a3aba04c628a500
  },
  "orig_nbformat": 4
 },
 "nbformat": 4,
 "nbformat_minor": 2
}
