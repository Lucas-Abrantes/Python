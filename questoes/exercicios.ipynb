{
 "cells": [
  {
   "attachments": {},
   "cell_type": "markdown",
   "metadata": {},
   "source": [
    "##### QUESTÃO 1 - Escreva uma função que receba uma string de uma ou mais palavras e retorne a mesma string,  mas se a palavra for maior ou igual a 8, inverta ela.\n"
   ]
  },
  {
   "cell_type": "code",
   "execution_count": 92,
   "metadata": {},
   "outputs": [
    {
     "name": "stdout",
     "output_type": "stream",
     "text": [
      "sinais e  sametsis seraenil \n"
     ]
    }
   ],
   "source": [
    "def setenca(frase):\n",
    "    nova_frase = ''\n",
    "    result = ''\n",
    "    aux = ''\n",
    "    for x in frase.split(' '):\n",
    "        if len(x) <= 7:\n",
    "            result += x[::+1] + ' '\n",
    "        if len(x) >= 8:\n",
    "            nova_frase += x[::-1] + ' '\n",
    "    aux = result + ' ' + nova_frase\n",
    "    return aux\n",
    "\n",
    "\n",
    "texto = setenca('sinais e sistemas lineares')\n",
    "print(texto)\n",
    "           \n"
   ]
  },
  {
   "attachments": {},
   "cell_type": "markdown",
   "metadata": {},
   "source": [
    "#"
   ]
  },
  {
   "attachments": {},
   "cell_type": "markdown",
   "metadata": {},
   "source": [
    "##### QUESTÃO 2 - Escrever uma função que transforma todas as palavras em #, exceto os últimos quatro caracteres."
   ]
  },
  {
   "cell_type": "code",
   "execution_count": 172,
   "metadata": {},
   "outputs": [
    {
     "name": "stdout",
     "output_type": "stream",
     "text": [
      "########1-43\n"
     ]
    }
   ],
   "source": [
    "def modifica(texto):\n",
    "    msg = texto[-4:]\n",
    "    aux = ''\n",
    "    for i in texto[:-4].replace('.', ''):\n",
    "        i = '#'\n",
    "        aux += i\n",
    "    \n",
    "    print(''.join(aux + msg))\n",
    "modifica('888.000.111-43')\n",
    "#print(msg)"
   ]
  }
 ],
 "metadata": {
  "kernelspec": {
   "display_name": "base",
   "language": "python",
   "name": "python3"
  },
  "language_info": {
   "codemirror_mode": {
    "name": "ipython",
    "version": 3
   },
   "file_extension": ".py",
   "mimetype": "text/x-python",
   "name": "python",
   "nbconvert_exporter": "python",
   "pygments_lexer": "ipython3",
   "version": "3.9.7"
  },
  "orig_nbformat": 4
 },
 "nbformat": 4,
 "nbformat_minor": 2
}
