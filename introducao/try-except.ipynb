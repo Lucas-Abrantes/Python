{
 "cells": [
  {
   "cell_type": "code",
   "execution_count": 1,
   "metadata": {},
   "outputs": [
    {
     "ename": "ValueError",
     "evalue": "Digitou errado",
     "output_type": "error",
     "traceback": [
      "\u001b[1;31m---------------------------------------------------------------------------\u001b[0m",
      "\u001b[1;31mValueError\u001b[0m                                Traceback (most recent call last)",
      "\u001b[1;32mc:\\Users\\lucas\\Downloads\\python\\try-except.ipynb Cell 1\u001b[0m in \u001b[0;36m<cell line: 5>\u001b[1;34m()\u001b[0m\n\u001b[0;32m      <a href='vscode-notebook-cell:/c%3A/Users/lucas/Downloads/python/try-except.ipynb#W0sZmlsZQ%3D%3D?line=0'>1</a>\u001b[0m \u001b[39m# raise - é uma palavra reservada. Serve para criar nossas próprias mensagem de error\u001b[39;00m\n\u001b[1;32m----> <a href='vscode-notebook-cell:/c%3A/Users/lucas/Downloads/python/try-except.ipynb#W0sZmlsZQ%3D%3D?line=4'>5</a>\u001b[0m \u001b[39mraise\u001b[39;00m \u001b[39mValueError\u001b[39;00m(\u001b[39m'\u001b[39m\u001b[39mDigitou errado\u001b[39m\u001b[39m'\u001b[39m)\n",
      "\u001b[1;31mValueError\u001b[0m: Digitou errado"
     ]
    }
   ],
   "source": [
    "# raise - é uma palavra reservada. Serve para criar nossas próprias mensagem de error\n",
    "\n",
    "\n",
    "\n",
    "raise ValueError('Digitou errado')"
   ]
  },
  {
   "cell_type": "code",
   "execution_count": 1,
   "metadata": {},
   "outputs": [
    {
     "ename": "TypeError",
     "evalue": "O texto precisa ser uma string",
     "output_type": "error",
     "traceback": [
      "\u001b[1;31m---------------------------------------------------------------------------\u001b[0m",
      "\u001b[1;31mTypeError\u001b[0m                                 Traceback (most recent call last)",
      "\u001b[1;32mc:\\Users\\lucas\\Downloads\\python\\try-except.ipynb Cell 2\u001b[0m in \u001b[0;36m<cell line: 6>\u001b[1;34m()\u001b[0m\n\u001b[0;32m      <a href='vscode-notebook-cell:/c%3A/Users/lucas/Downloads/python/try-except.ipynb#W1sZmlsZQ%3D%3D?line=2'>3</a>\u001b[0m         \u001b[39mraise\u001b[39;00m \u001b[39mTypeError\u001b[39;00m(\u001b[39m'\u001b[39m\u001b[39mO texto precisa ser uma string\u001b[39m\u001b[39m'\u001b[39m)\n\u001b[0;32m      <a href='vscode-notebook-cell:/c%3A/Users/lucas/Downloads/python/try-except.ipynb#W1sZmlsZQ%3D%3D?line=3'>4</a>\u001b[0m     \u001b[39mprint\u001b[39m(texto)\n\u001b[1;32m----> <a href='vscode-notebook-cell:/c%3A/Users/lucas/Downloads/python/try-except.ipynb#W1sZmlsZQ%3D%3D?line=5'>6</a>\u001b[0m color(\u001b[39m5\u001b[39;49m, \u001b[39m'\u001b[39;49m\u001b[39mred\u001b[39;49m\u001b[39m'\u001b[39;49m)\n",
      "\u001b[1;32mc:\\Users\\lucas\\Downloads\\python\\try-except.ipynb Cell 2\u001b[0m in \u001b[0;36mcolor\u001b[1;34m(texto, cor)\u001b[0m\n\u001b[0;32m      <a href='vscode-notebook-cell:/c%3A/Users/lucas/Downloads/python/try-except.ipynb#W1sZmlsZQ%3D%3D?line=0'>1</a>\u001b[0m \u001b[39mdef\u001b[39;00m \u001b[39mcolor\u001b[39m(texto, cor):\n\u001b[0;32m      <a href='vscode-notebook-cell:/c%3A/Users/lucas/Downloads/python/try-except.ipynb#W1sZmlsZQ%3D%3D?line=1'>2</a>\u001b[0m     \u001b[39mif\u001b[39;00m \u001b[39mtype\u001b[39m(texto) \u001b[39mis\u001b[39;00m \u001b[39mnot\u001b[39;00m \u001b[39mstr\u001b[39m:\n\u001b[1;32m----> <a href='vscode-notebook-cell:/c%3A/Users/lucas/Downloads/python/try-except.ipynb#W1sZmlsZQ%3D%3D?line=2'>3</a>\u001b[0m         \u001b[39mraise\u001b[39;00m \u001b[39mTypeError\u001b[39;00m(\u001b[39m'\u001b[39m\u001b[39mO texto precisa ser uma string\u001b[39m\u001b[39m'\u001b[39m)\n\u001b[0;32m      <a href='vscode-notebook-cell:/c%3A/Users/lucas/Downloads/python/try-except.ipynb#W1sZmlsZQ%3D%3D?line=3'>4</a>\u001b[0m     \u001b[39mprint\u001b[39m(texto)\n",
      "\u001b[1;31mTypeError\u001b[0m: O texto precisa ser uma string"
     ]
    }
   ],
   "source": [
    "def color(texto, cor):\n",
    "    if type(texto) is not str:\n",
    "        raise TypeError('O texto precisa ser uma string')\n",
    "    print(texto)\n",
    "\n",
    "color(5, 'red')"
   ]
  },
  {
   "cell_type": "code",
   "execution_count": 2,
   "metadata": {},
   "outputs": [
    {
     "name": "stdout",
     "output_type": "stream",
     "text": [
      "a função deu erro\n"
     ]
    }
   ],
   "source": [
    "try:\n",
    "    ola()\n",
    "except:\n",
    "    print('a função deu erro')"
   ]
  },
  {
   "cell_type": "code",
   "execution_count": 6,
   "metadata": {},
   "outputs": [
    {
     "name": "stdout",
     "output_type": "stream",
     "text": [
      "Deu type:object of type 'int' has no len()\n"
     ]
    }
   ],
   "source": [
    "# devemos tratar erros de forma específica\n",
    "\n",
    "try:\n",
    "    #ola()\n",
    "    len(5)\n",
    "except NameError as err:\n",
    "    print(f'Função inexistente: {err}')  \n",
    "except TypeError as erra:\n",
    "    print(f'Deu type:{erra}') "
   ]
  },
  {
   "cell_type": "code",
   "execution_count": 8,
   "metadata": {},
   "outputs": [
    {
     "name": "stdout",
     "output_type": "stream",
     "text": [
      "Erro do tipo KeyError: 'ome'\n"
     ]
    }
   ],
   "source": [
    "def pega_valor(dicionario, valor):\n",
    "    try:\n",
    "       return dicionario[valor]\n",
    "    except  KeyError as ky:\n",
    "        return f'Erro do tipo KeyError: {ky}'\n",
    "\n",
    "dicio = {'nome': 'lucas'}\n",
    "\n",
    "print(pega_valor(dicio, 'ome'))"
   ]
  },
  {
   "cell_type": "code",
   "execution_count": 14,
   "metadata": {},
   "outputs": [
    {
     "name": "stdout",
     "output_type": "stream",
     "text": [
      "Voce digitou: 5\n",
      "Rodou com finally\n"
     ]
    }
   ],
   "source": [
    "num = 0\n",
    "# finally é utilizado para abrir e fechar arquivo, ou seja, encerrar uma conexão\n",
    "# utilizado com banco de dados. Ele roda com erro e sem erro durante execução\n",
    "\n",
    "\n",
    "try:\n",
    "    num = int(input('Digite um valor: '))\n",
    "except ValueError:\n",
    "    print('Deu erro')\n",
    "else:\n",
    "    print(f'Voce digitou: {num}')\n",
    "finally:\n",
    "    print('Rodou com finally')"
   ]
  },
  {
   "cell_type": "code",
   "execution_count": 27,
   "metadata": {},
   "outputs": [
    {
     "name": "stdout",
     "output_type": "stream",
     "text": [
      "ocorreu um problema --> division by zero\n"
     ]
    }
   ],
   "source": [
    "def dividir(a, b):\n",
    "    try: \n",
    "        return int(a)/int(b)\n",
    "    #except ValueError:\n",
    "        #return 'Erro de conversão'\n",
    "   #except ZeroDivisionError:\n",
    "        #return 'Não é possível divisão por 0'\n",
    "    \n",
    "    except (ValueError, TypeError, ZeroDivisionError) as err:\n",
    "        return f'ocorreu um problema --> {err}'\n",
    "\n",
    "\n",
    "num1 = input('Digite o primeiro valor: ')\n",
    "num2 = input('Digite o segundo valor: ')\n",
    "\n",
    "print(dividir(num1, num2))\n",
    "    "
   ]
  },
  {
   "cell_type": "code",
   "execution_count": null,
   "metadata": {},
   "outputs": [],
   "source": []
  }
 ],
 "metadata": {
  "kernelspec": {
   "display_name": "Python 3",
   "language": "python",
   "name": "python3"
  },
  "language_info": {
   "codemirror_mode": {
    "name": "ipython",
    "version": 3
   },
   "file_extension": ".py",
   "mimetype": "text/x-python",
   "name": "python",
   "nbconvert_exporter": "python",
   "pygments_lexer": "ipython3",
   "version": "3.10.9 (tags/v3.10.9:1dd9be6, Dec  6 2022, 20:01:21) [MSC v.1934 64 bit (AMD64)]"
  },
  "orig_nbformat": 4,
  "vscode": {
   "interpreter": {
    "hash": "4deb986f3ce6d39d52ae36d5b72d27b1f73a8b6b686c07859b235a0545bfc1d1"
   }
  }
 },
 "nbformat": 4,
 "nbformat_minor": 2
}
