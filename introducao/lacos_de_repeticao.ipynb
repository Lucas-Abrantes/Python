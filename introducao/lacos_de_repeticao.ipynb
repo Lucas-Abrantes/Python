{
 "cells": [
  {
   "cell_type": "code",
   "execution_count": 2,
   "metadata": {},
   "outputs": [
    {
     "name": "stdout",
     "output_type": "stream",
     "text": [
      "\n",
      " Bem-vindo(a), alice\n",
      "\n",
      " Bem-vindo(a), david\n",
      "\n",
      " Bem-vindo(a), carolina\n"
     ]
    }
   ],
   "source": [
    "nomes= ['alice', 'david', 'carolina']\n",
    "\n",
    "for nome in nomes:\n",
    "    print('')\n",
    "    print(f'Bem-vindo(a), {nome}')\n"
   ]
  },
  {
   "cell_type": "code",
   "execution_count": 4,
   "metadata": {},
   "outputs": [
    {
     "name": "stdout",
     "output_type": "stream",
     "text": [
      "1 2 3 4 5 6 7 8 9 "
     ]
    }
   ],
   "source": [
    "# função range() --> exibe valores númericos. Passando como parâmetro o inicio, \n",
    "# fim e passo\n",
    "\n",
    "for value in range(1, 10):\n",
    "    print(value, end=' ')"
   ]
  },
  {
   "cell_type": "code",
   "execution_count": 5,
   "metadata": {},
   "outputs": [
    {
     "name": "stdout",
     "output_type": "stream",
     "text": [
      "[1, 2, 3, 4, 5]\n"
     ]
    }
   ],
   "source": [
    "numeros = list(range(1, 6))\n",
    "print(numeros)"
   ]
  },
  {
   "cell_type": "code",
   "execution_count": 8,
   "metadata": {},
   "outputs": [
    {
     "name": "stdout",
     "output_type": "stream",
     "text": [
      "[1, 4, 9, 16, 25, 36, 49, 64, 81, 100]\n"
     ]
    }
   ],
   "source": [
    "quadrado = []\n",
    "\n",
    "for valor in range(1, 11):\n",
    "    #value = valor ** 2\n",
    "    quadrado.append(valor ** 2)\n",
    "\n",
    "print(quadrado)"
   ]
  },
  {
   "cell_type": "code",
   "execution_count": 12,
   "metadata": {},
   "outputs": [
    {
     "name": "stdout",
     "output_type": "stream",
     "text": [
      "10000\n",
      "0.1\n"
     ]
    }
   ],
   "source": [
    "dados = [100, 55, 2, 5, 10000, 98, 12.5, 0.1]\n",
    "\n",
    "print(max(dados))\n",
    "print(min(dados))"
   ]
  },
  {
   "attachments": {},
   "cell_type": "markdown",
   "metadata": {},
   "source": [
    "##### List comprehensions - uma forma de criar listas de forma mais rápido. Vale ressaltar que esse tipo de abordagem só é válido para operações mais simples\n"
   ]
  },
  {
   "cell_type": "code",
   "execution_count": 15,
   "metadata": {},
   "outputs": [
    {
     "name": "stdout",
     "output_type": "stream",
     "text": [
      "[1, 4, 9, 16, 25, 36, 49, 64, 81, 100]\n"
     ]
    }
   ],
   "source": [
    "quadrado = [valor ** 2 for valor in range(1, 11)]\n",
    "print(quadrado)"
   ]
  },
  {
   "attachments": {},
   "cell_type": "markdown",
   "metadata": {},
   "source": [
    "##### Fatiamento"
   ]
  },
  {
   "cell_type": "code",
   "execution_count": 16,
   "metadata": {},
   "outputs": [
    {
     "name": "stdout",
     "output_type": "stream",
     "text": [
      "['lucas', 'Marcos']\n"
     ]
    }
   ],
   "source": [
    "jogadores = ['joao', 'lucas', 'Marcos', 'charles', 'martina', 'michael', 'florence']\n",
    "\n",
    "# vai do indice 1 ate o 3 - 1\n",
    "print(jogadores[1:3])"
   ]
  },
  {
   "cell_type": "code",
   "execution_count": 17,
   "metadata": {},
   "outputs": [
    {
     "name": "stdout",
     "output_type": "stream",
     "text": [
      "['joao', 'lucas', 'Marcos', 'charles']\n"
     ]
    }
   ],
   "source": [
    "# começa em 0 e vai até 3\n",
    "print(jogadores[:4])"
   ]
  },
  {
   "cell_type": "code",
   "execution_count": 18,
   "metadata": {},
   "outputs": [
    {
     "name": "stdout",
     "output_type": "stream",
     "text": [
      "['joao', 'lucas', 'Marcos', 'charles', 'martina', 'michael', 'florence']\n"
     ]
    }
   ],
   "source": [
    "# pega todos os elementos da lista\n",
    "print(jogadores[:])"
   ]
  },
  {
   "cell_type": "code",
   "execution_count": 23,
   "metadata": {},
   "outputs": [
    {
     "name": "stdout",
     "output_type": "stream",
     "text": [
      "['charles', 'martina', 'michael', 'florence']\n"
     ]
    }
   ],
   "source": [
    "# começa em -1 e vai até -4\n",
    "print(jogadores[-4:])"
   ]
  },
  {
   "cell_type": "code",
   "execution_count": 24,
   "metadata": {},
   "outputs": [
    {
     "name": "stdout",
     "output_type": "stream",
     "text": [
      "Joao\n",
      "Lucas\n",
      "Marcos\n",
      "Charles\n",
      "Martina\n"
     ]
    }
   ],
   "source": [
    "for players in jogadores[:5]:\n",
    "    print(players.title())"
   ]
  }
 ],
 "metadata": {
  "kernelspec": {
   "display_name": "base",
   "language": "python",
   "name": "python3"
  },
  "language_info": {
   "codemirror_mode": {
    "name": "ipython",
    "version": 3
   },
   "file_extension": ".py",
   "mimetype": "text/x-python",
   "name": "python",
   "nbconvert_exporter": "python",
   "pygments_lexer": "ipython3",
   "version": "3.9.7"
  },
  "orig_nbformat": 4
 },
 "nbformat": 4,
 "nbformat_minor": 2
}
