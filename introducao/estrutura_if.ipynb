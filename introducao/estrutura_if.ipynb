{
 "cells": [
  {
   "attachments": {},
   "cell_type": "markdown",
   "metadata": {},
   "source": [
    "##### Bloco if: permite realizar verificações em nosso programa para torná-lo mais eficiente e resolver problemas mais elaborados. Irá retornar True caso a condição vigente seja verdadeira"
   ]
  },
  {
   "cell_type": "code",
   "execution_count": 1,
   "metadata": {},
   "outputs": [
    {
     "name": "stdout",
     "output_type": "stream",
     "text": [
      "Joao\n",
      "PEDRO\n",
      "Maria\n"
     ]
    }
   ],
   "source": [
    "nomes = ['Joao', 'pedro', 'maria']\n",
    "\n",
    "for nome in nomes:\n",
    "    if (nome == 'pedro'):\n",
    "        print(nome.upper())\n",
    "    else:\n",
    "        print(nome.title())"
   ]
  },
  {
   "cell_type": "code",
   "execution_count": 2,
   "metadata": {},
   "outputs": [
    {
     "name": "stdout",
     "output_type": "stream",
     "text": [
      "5\n"
     ]
    }
   ],
   "source": [
    "age = 12\n",
    "if age < 4:\n",
    "    price = 0\n",
    "elif age < 18:\n",
    "    price = 5\n",
    "else:\n",
    "    price = 10\n",
    "\n",
    "print(price)"
   ]
  },
  {
   "cell_type": "code",
   "execution_count": 5,
   "metadata": {},
   "outputs": [
    {
     "name": "stdout",
     "output_type": "stream",
     "text": [
      "Seja bem-vindo!!\n",
      "O item será adicionado\n",
      "['morango', 'frango', 'batata', 'salada', 'mel', 'coco']\n"
     ]
    }
   ],
   "source": [
    "cardapio = ['morango', 'frango', 'batata', 'salada']\n",
    "cliente = []\n",
    "\n",
    "def boasVindas():\n",
    "    print(\"Seja bem-vindo!!\")\n",
    "\n",
    "def pedido(x):\n",
    "    boasVindas()\n",
    "    quant = 0\n",
    "    while quant <= (x - 1):\n",
    "        pedido = str(input(\"Digite o seu pedido: \"))\n",
    "        cliente.append(pedido)\n",
    "        quant+= 1\n",
    "\n",
    "\n",
    "dados = int(input(\"Quantos items vc deseja: \"))\n",
    "\n",
    "pedido(dados)\n",
    "\n",
    "for items in cliente:\n",
    "    if items not in cardapio:\n",
    "        cardapio.append(items)\n",
    "print(\"O item será adicionado\")\n",
    "print(cardapio)\n",
    "          \n",
    "\n"
   ]
  },
  {
   "cell_type": "code",
   "execution_count": 3,
   "metadata": {},
   "outputs": [
    {
     "data": {
      "text/plain": [
       "['agua', 'dpce']"
      ]
     },
     "execution_count": 3,
     "metadata": {},
     "output_type": "execute_result"
    }
   ],
   "source": [
    "cliente"
   ]
  }
 ],
 "metadata": {
  "kernelspec": {
   "display_name": "base",
   "language": "python",
   "name": "python3"
  },
  "language_info": {
   "codemirror_mode": {
    "name": "ipython",
    "version": 3
   },
   "file_extension": ".py",
   "mimetype": "text/x-python",
   "name": "python",
   "nbconvert_exporter": "python",
   "pygments_lexer": "ipython3",
   "version": "3.9.7"
  },
  "orig_nbformat": 4
 },
 "nbformat": 4,
 "nbformat_minor": 2
}
