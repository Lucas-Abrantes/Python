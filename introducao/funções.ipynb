{
 "cells": [
  {
   "attachments": {},
   "cell_type": "markdown",
   "metadata": {},
   "source": [
    "### Funções\n",
    "\n",
    "##### pequenos trechos de códigos que realizam tarefas específicas"
   ]
  },
  {
   "cell_type": "code",
   "execution_count": 7,
   "metadata": {},
   "outputs": [
    {
     "name": "stdout",
     "output_type": "stream",
     "text": [
      "estou sendo axecutado antes do retorno\n",
      "Nome: oi, lucas\n"
     ]
    }
   ],
   "source": [
    "# função print não tem retorno, logo, ela devolve none\n",
    "\n",
    "# refatorar - significa reescrever, melhorar o código\n",
    "# parâmetros - são variáveis declaradas na definição da função\n",
    "# argumentos - são dados passados durante a execução de uma função\n",
    "# retunr finaliza a função, ela sai da função\n",
    "\n",
    "def cria_nome():\n",
    "    print('estou sendo axecutado antes do retorno')\n",
    "    return 'oi'\n",
    "    print('estou sendo chamado')\n",
    "\n",
    "\n",
    "\n",
    "print(f'Nome: {cria_nome()}, lucas')"
   ]
  },
  {
   "attachments": {},
   "cell_type": "markdown",
   "metadata": {},
   "source": [
    "#### Funções com Parâmetros Padrão (Default Paramters)\n",
    "#### Passagem de parâmetro é opcional\n",
    "\n",
    "##### Importância: ser mais flexíveis nas funções, evitar erros, permite trabalhar com um código mais legível"
   ]
  },
  {
   "cell_type": "code",
   "execution_count": 2,
   "metadata": {},
   "outputs": [
    {
     "name": "stdout",
     "output_type": "stream",
     "text": [
      "9\n",
      "4\n"
     ]
    }
   ],
   "source": [
    "def exp(num=2, potenci=2):\n",
    "    return num ** potenci\n",
    "\n",
    "\n",
    "# o valor default sempre deve ser o último. Caso cointrário, gera error\n",
    "# def exp(num=2, potencia): --> erro\n",
    "\n",
    "print(exp(3))\n",
    "print(exp())\n"
   ]
  },
  {
   "cell_type": "code",
   "execution_count": 3,
   "metadata": {},
   "outputs": [
    {
     "name": "stdout",
     "output_type": "stream",
     "text": [
      "3\n",
      "-1\n"
     ]
    }
   ],
   "source": [
    "# função dentro de função\n",
    "\n",
    "\n",
    "def soma(num1, num2):\n",
    "    return num1 + num2\n",
    "\n",
    "\n",
    "# fun recebe a função soma como padrão\n",
    "# isso é o mesmo que\n",
    "\n",
    "\n",
    "# variavel = soma\n",
    "\n",
    "# variavel\n",
    "\n",
    "\n",
    "\n",
    "def mat(num1, num2, fun=soma):\n",
    "    return fun(num1, num2)\n",
    "\n",
    "\n",
    "def sub(num1, num2):\n",
    "    return num1 - num2\n",
    "\n",
    "\n",
    "print(mat(1, 2))\n",
    "print(mat(1, 2, sub))"
   ]
  },
  {
   "cell_type": "code",
   "execution_count": 4,
   "metadata": {},
   "outputs": [
    {
     "name": "stdout",
     "output_type": "stream",
     "text": [
      "2\n"
     ]
    }
   ],
   "source": [
    "total = 1\n",
    "\n",
    "\n",
    "def ola():\n",
    "    global total\n",
    "    total += 1\n",
    "    return total\n",
    "\n",
    "\n",
    "print(ola())"
   ]
  },
  {
   "cell_type": "code",
   "execution_count": 5,
   "metadata": {},
   "outputs": [
    {
     "name": "stdout",
     "output_type": "stream",
     "text": [
      "1\n"
     ]
    }
   ],
   "source": [
    "def fora():\n",
    "    contador = 0\n",
    "\n",
    "    def dentro():\n",
    "        nonlocal contador  # estou acessanso a variavel anterior. Não é global nem local\n",
    "        contador += 1\n",
    "        return contador\n",
    "    return dentro()\n",
    "\n",
    "print(fora())"
   ]
  },
  {
   "attachments": {},
   "cell_type": "markdown",
   "metadata": {},
   "source": [
    "### *args - coloca valores extras informados em formato de tupla"
   ]
  },
  {
   "cell_type": "code",
   "execution_count": 3,
   "metadata": {},
   "outputs": [
    {
     "data": {
      "text/plain": [
       "3"
      ]
     },
     "execution_count": 3,
     "metadata": {},
     "output_type": "execute_result"
    }
   ],
   "source": [
    "# posso passar valores obrigatórios e o *args\n",
    "\n",
    "def soma(nome, idade, *args):\n",
    "    total = 0\n",
    "    for num in args:\n",
    "        total = total + num\n",
    "    return total\n",
    "\n",
    "soma('pedro', 21, 1, 2)\n"
   ]
  },
  {
   "cell_type": "code",
   "execution_count": 6,
   "metadata": {},
   "outputs": [
    {
     "name": "stdout",
     "output_type": "stream",
     "text": [
      "19\n"
     ]
    }
   ],
   "source": [
    "def cad(*args):\n",
    "    return sum(args)\n",
    "\n",
    "\n",
    "numeros = [1, 4, 5, 6, 3, 0]\n",
    "# desempacotar - eu passo um * para a vairável número e, por sua vez, associa cada elemento da\n",
    "# lista a uma variável. Estou passando uma coleção\n",
    "# não consigo realizar operações sem antes desempacotar\n",
    "# ex: num1, num2, num3 = numeros\n",
    "\n",
    "print(cad(*numeros))"
   ]
  },
  {
   "attachments": {},
   "cell_type": "markdown",
   "metadata": {},
   "source": [
    "#### **kwargs - exige que utilizemos parâmetros nomeados e transforma esses parâmetros extras em um dicionário\n",
    "\n",
    "##### *args e **kwargs não precisam receber parâmetros obrigatórios\n",
    "\n",
    "#### Ordem na declaração de funções: \n",
    "#### 1 - parãmetros obrigatórios\n",
    "#### 2 - *args\n",
    "#### 3 - Parâmetros Default\n",
    "#### 4 - **kwargs"
   ]
  },
  {
   "cell_type": "code",
   "execution_count": 11,
   "metadata": {},
   "outputs": [
    {
     "name": "stdout",
     "output_type": "stream",
     "text": [
      "Marcos. Cor preferida: verde\n",
      "Lucas. Cor preferida: amarelo\n",
      "Mateus. Cor preferida: preto\n"
     ]
    }
   ],
   "source": [
    "def cores(**kwargs):\n",
    "    for x, y in kwargs.items():\n",
    "        print(f\"{x.title()}. Cor preferida: {y}\")\n",
    "\n",
    "cores(marcos = 'verde', lucas = 'amarelo', mateus = 'preto')\n"
   ]
  },
  {
   "cell_type": "code",
   "execution_count": 14,
   "metadata": {},
   "outputs": [
    {
     "name": "stdout",
     "output_type": "stream",
     "text": [
      "Seja bem vindo\n"
     ]
    }
   ],
   "source": [
    "def ola(**kwargs):\n",
    "    if 'geek' in kwargs and kwargs['geek'] == 'python':\n",
    "        return 'Seja bem vindo'\n",
    "    return 'Acesso negado'\n",
    "\n",
    "print(ola(geek = 'python'))"
   ]
  },
  {
   "cell_type": "code",
   "execution_count": 15,
   "metadata": {},
   "outputs": [
    {
     "name": "stdout",
     "output_type": "stream",
     "text": [
      "lucas tem 25\n",
      "(0, 1, 2, 3)\n",
      "casado\n",
      "{'linguagem': 'python'}\n"
     ]
    }
   ],
   "source": [
    "def minha_funcao(nome, idade, *args, estado_civil=False, **kwargs):\n",
    "    print(f'{nome} tem {idade}')\n",
    "    print(args)\n",
    "    if estado_civil:\n",
    "        print('casado')\n",
    "    else:\n",
    "        print('solteiro')\n",
    "    print(kwargs)\n",
    "\n",
    "\n",
    "\n",
    "minha_funcao('lucas', 25, 0, 1, 2, 3, estado_civil=True, linguagem = 'python')"
   ]
  },
  {
   "cell_type": "code",
   "execution_count": 18,
   "metadata": {},
   "outputs": [
    {
     "name": "stdout",
     "output_type": "stream",
     "text": [
      "lucas abrantes\n"
     ]
    }
   ],
   "source": [
    "# desempacotar com **kwargs\n",
    "# obs = os nomes das chaves em um dicionário devem ser os mesmos dos parâmetros da função\n",
    "def nomes(**kwargs):\n",
    "    return f\"{kwargs['nome']} {kwargs['sobrenome']}\"\n",
    "\n",
    "dados = {'nome':'lucas', 'sobrenome':'abrantes'}\n",
    "\n",
    "print(nomes(**dados))"
   ]
  },
  {
   "cell_type": "code",
   "execution_count": 19,
   "metadata": {},
   "outputs": [
    {
     "data": {
      "text/plain": [
       "6"
      ]
     },
     "execution_count": 19,
     "metadata": {},
     "output_type": "execute_result"
    }
   ],
   "source": [
    "def soma_x(a, b, c):\n",
    "    return a + b + c\n",
    "\n",
    "\n",
    "dicionario = dict(a = 1, b = 2, c = 3)\n",
    "\n",
    "soma_x(**dicionario)\n",
    "\n",
    "\n"
   ]
  }
 ],
 "metadata": {
  "kernelspec": {
   "display_name": "Python 3.10.8 64-bit (microsoft store)",
   "language": "python",
   "name": "python3"
  },
  "language_info": {
   "codemirror_mode": {
    "name": "ipython",
    "version": 3
   },
   "file_extension": ".py",
   "mimetype": "text/x-python",
   "name": "python",
   "nbconvert_exporter": "python",
   "pygments_lexer": "ipython3",
   "version": "3.10.11"
  },
  "orig_nbformat": 4,
  "vscode": {
   "interpreter": {
    "hash": "4deb986f3ce6d39d52ae36d5b72d27b1f73a8b6b686c07859b235a0545bfc1d1"
   }
  }
 },
 "nbformat": 4,
 "nbformat_minor": 2
}
