{
 "cells": [
  {
   "attachments": {},
   "cell_type": "markdown",
   "metadata": {},
   "source": [
    "##### Funções Lambdas - são funções sem nome, ou seja, são anônimas"
   ]
  },
  {
   "cell_type": "code",
   "execution_count": 2,
   "metadata": {},
   "outputs": [
    {
     "name": "stdout",
     "output_type": "stream",
     "text": [
      "Lucas  Abrantes\n"
     ]
    }
   ],
   "source": [
    "lambda x: x ** 2\n",
    "\n",
    "# recebe o parâmetro x e retorna esse valor ao quadrado\n",
    "\n",
    "\n",
    "# podemos ter expressões lambdas com múltiplas entradas\n",
    "\n",
    "nome_completo = lambda nome, sobrenome: nome.strip().title() + ' ' + sobrenome.title()\n",
    "\n",
    "# strip() - remove espaços vazios\n",
    "print(nome_completo(' lucas', ' abrantes'))"
   ]
  },
  {
   "cell_type": "code",
   "execution_count": 4,
   "metadata": {},
   "outputs": [
    {
     "name": "stdout",
     "output_type": "stream",
     "text": [
      "está funcionando\n"
     ]
    }
   ],
   "source": [
    "x = lambda : 'está funcionando'\n",
    "\n",
    "print(x())\n",
    "\n",
    "# OBS: se passarmos muitos argumentos, e não especificarmos os parâmetros, teremos um erro"
   ]
  },
  {
   "cell_type": "code",
   "execution_count": 7,
   "metadata": {},
   "outputs": [
    {
     "name": "stdout",
     "output_type": "stream",
     "text": [
      "['lucas Abrantes', 'maria Aparecida', 'isaac Asimov', 'Joao Figueiredo']\n"
     ]
    }
   ],
   "source": [
    "autores = ['isaac Asimov', 'lucas Abrantes', 'maria Aparecida', 'Joao Figueiredo']\n",
    "\n",
    "autores.sort(key= lambda sobrenome: sobrenome.split()[-1].lower())\n",
    "\n",
    "print(autores)"
   ]
  },
  {
   "cell_type": "code",
   "execution_count": 14,
   "metadata": {},
   "outputs": [
    {
     "name": "stdout",
     "output_type": "stream",
     "text": [
      "84\n",
      "9\n"
     ]
    }
   ],
   "source": [
    "def quadratica(a, b, c):\n",
    "    return lambda x: a ** x + b + c\n",
    "\n",
    "\n",
    "x = quadratica(2, 3, 5)\n",
    "print(quadratica(3, 2, 1)(4))\n",
    "print(x(0))"
   ]
  },
  {
   "attachments": {},
   "cell_type": "markdown",
   "metadata": {},
   "source": [
    "##### Função map - realiza o mapeamento de valores de uma função"
   ]
  },
  {
   "cell_type": "code",
   "execution_count": 22,
   "metadata": {},
   "outputs": [
    {
     "name": "stdout",
     "output_type": "stream",
     "text": [
      "Valor: [615.7521601035994, 1963.4954084936207, 201.06192982974676, 20106.192982974677]\n",
      "<map object at 0x000001B98EB41420>\n",
      "[615.7521601035994, 1963.4954084936207, 201.06192982974676, 20106.192982974677]\n"
     ]
    }
   ],
   "source": [
    "import math\n",
    "\n",
    "raios = [14, 25, 8, 80]\n",
    "areas = []\n",
    "\n",
    "\n",
    "def calcula(r):\n",
    "    return math.pi * (r ** 2)\n",
    "\n",
    "\n",
    "for r in raios:\n",
    "    areas.append(calcula(r))\n",
    "\n",
    "print(f'Valor: {areas}')\n",
    "\n",
    "\n",
    "# o primeiro é a função, o segundo, os valores\n",
    "x = map(calcula, raios)\n",
    "# após usar a função map a partir do primeiro resultado,\n",
    "#  a próxima conversão será zerada\n",
    "\n",
    "'''\n",
    "    areas = map(calcula, raios)\n",
    "    for i in areas:\n",
    "        print(i)\n",
    "    \n",
    "    se executar de novo, o resultado será vazio\n",
    "\n",
    "'''\n",
    "\n",
    "\n",
    "print(x)\n",
    "print(list(x))\n"
   ]
  },
  {
   "cell_type": "code",
   "execution_count": 23,
   "metadata": {},
   "outputs": [
    {
     "name": "stdout",
     "output_type": "stream",
     "text": [
      "[8620.530241450393, 49087.385212340516, 1608.495438637974, 1608495.438637974]\n"
     ]
    }
   ],
   "source": [
    "print(list(map(lambda x: math.pi * (x ** 3), raios)))"
   ]
  },
  {
   "cell_type": "code",
   "execution_count": 31,
   "metadata": {},
   "outputs": [
    {
     "name": "stdout",
     "output_type": "stream",
     "text": [
      "[('sousa', 96.8), ('Campo Grande', 86.0), ('Berlim', 82.4)]\n"
     ]
    }
   ],
   "source": [
    "dados = [('sousa', 36), ('Campo Grande', 30), ('Berlim', 28)]\n",
    "\n",
    "c_para_f = lambda x: (x[0], 9/5 * x[1] + 32)\n",
    "\n",
    "print(list(map(c_para_f, dados)))"
   ]
  },
  {
   "attachments": {},
   "cell_type": "markdown",
   "metadata": {},
   "source": [
    "##### Filter - filtar dados de uma determinada coleção\n"
   ]
  },
  {
   "cell_type": "code",
   "execution_count": 4,
   "metadata": {},
   "outputs": [
    {
     "name": "stdout",
     "output_type": "stream",
     "text": [
      "3.5\n",
      "\n",
      "[4, 5, 6]\n",
      "Novamente: []\n"
     ]
    }
   ],
   "source": [
    "import statistics as st\n",
    "\n",
    "dados = 1, 2, 3, 4, 5, 6\n",
    "\n",
    "res = st.mean(dados)\n",
    "print(res)\n",
    "\n",
    "# passo uma função. Em seguida, um iterável\n",
    "x = filter(lambda x: x > 3.5, dados)\n",
    "print('')\n",
    "print(list(x))\n",
    "\n",
    "# executar mais uma vez, o elemento desaprece da memória\n",
    "print(f'Novamente: {list(x)}')"
   ]
  },
  {
   "cell_type": "code",
   "execution_count": 5,
   "metadata": {},
   "outputs": [
    {
     "name": "stdout",
     "output_type": "stream",
     "text": [
      "['Brasil', 'peru', 'equador', 'mexico']\n"
     ]
    }
   ],
   "source": [
    "paises = ['', 'Brasil', 'peru', '', 'equador', '', 'mexico']\n",
    "\n",
    "# none - refere-se aos elementos vazios na coleção, log, eles serão excluidos\n",
    "res = filter(None, paises)\n",
    "\n",
    "print(list(res))"
   ]
  },
  {
   "cell_type": "code",
   "execution_count": 8,
   "metadata": {},
   "outputs": [
    {
     "name": "stdout",
     "output_type": "stream",
     "text": [
      "['Brasil', 'peru', 'equador', 'mexico']\n"
     ]
    }
   ],
   "source": [
    "lista = []\n",
    "for i in paises:\n",
    "    if i == '':\n",
    "        paises.clear(i)\n",
    "    lista.append(i)\n",
    "\n",
    "print(lista)"
   ]
  },
  {
   "cell_type": "code",
   "execution_count": 10,
   "metadata": {},
   "outputs": [
    {
     "name": "stdout",
     "output_type": "stream",
     "text": [
      "['Brasil', 'peru', 'equador', 'mexico']\n"
     ]
    }
   ],
   "source": [
    "res = filter(lambda valor: len(valor) > 0, paises)\n",
    "print(list(res))"
   ]
  },
  {
   "cell_type": "code",
   "execution_count": 14,
   "metadata": {},
   "outputs": [
    {
     "name": "stdout",
     "output_type": "stream",
     "text": [
      "[{'username': 'lucas', 'tweets': []}, {'username': 'bob', 'tweets': []}]\n"
     ]
    }
   ],
   "source": [
    "usuarios = [\n",
    "    {'username': 'samuel', 'tweets': ['eu gosto do meu gato', 'adoro pizza']},\n",
    "    {'username': 'lucas', 'tweets': []},\n",
    "    {'username': 'carla', 'tweets': ['hoje está um dis lindo']},\n",
    "    {'username': 'pedro', 'tweets': ['eu gosto do meu cachorro', 'adoro pizza']},\n",
    "    {'username': 'bob', 'tweets': []}\n",
    "\n",
    "]\n",
    "\n",
    "\n",
    "# filtar pessoas que não fizeram nenhum tweeter\n",
    "\n",
    "inativos = filter(lambda user: len(user['tweets']) == 0, usuarios)\n",
    "\n",
    "print(list(inativos))"
   ]
  },
  {
   "cell_type": "code",
   "execution_count": 18,
   "metadata": {},
   "outputs": [
    {
     "name": "stdout",
     "output_type": "stream",
     "text": [
      "['Nome: vanessa']\n"
     ]
    }
   ],
   "source": [
    "nomes = ['lucas', 'vanessa', 'pedro']\n",
    "\n",
    "res = list(map(lambda nome: f'Nome: {nome}', filter(lambda x: len(x) > 5, nomes)))\n",
    "\n",
    "print(res)"
   ]
  },
  {
   "attachments": {},
   "cell_type": "markdown",
   "metadata": {},
   "source": [
    "##### Reduce - recebe dois parâmetros, reduce(função, dados). Não é mais uma\n",
    "##### função integrada, precisamos importar a biblioteca"
   ]
  },
  {
   "cell_type": "code",
   "execution_count": null,
   "metadata": {},
   "outputs": [],
   "source": [
    "# dados = [a1, a2, a3, ..., an]\n",
    "\n",
    "# def main(x, y):\n",
    "    # return x * y\n",
    "\n",
    "# reduce(main, dados) # pega os dois primeiros alementos da coleção\n",
    "# multiplica os dois elementos e devolve o resultado\n",
    "# EX:  res = a1 * a2. Depois, res * a3 e assim por diante"
   ]
  },
  {
   "cell_type": "code",
   "execution_count": 3,
   "metadata": {},
   "outputs": [
    {
     "name": "stdout",
     "output_type": "stream",
     "text": [
      "24\n"
     ]
    }
   ],
   "source": [
    "from functools import reduce\n",
    "# funciona como um fatorial\n",
    "dados = [1,3,2,4]\n",
    "\n",
    "multi = lambda x, y: x * y\n",
    "res = reduce(multi, dados)\n",
    "print(res)"
   ]
  },
  {
   "attachments": {},
   "cell_type": "markdown",
   "metadata": {},
   "source": [
    "##### Any e All\n",
    "\n",
    "##### all - retorna True se todos os valores são verdadeiros ou se o  iterável está vazio\n",
    "\n",
    "\n",
    "##### any - retorna True se qualquer elemento do iterável for verdadeiro. Caso esteja vazio, devolve False"
   ]
  },
  {
   "cell_type": "code",
   "execution_count": 6,
   "metadata": {},
   "outputs": [
    {
     "name": "stdout",
     "output_type": "stream",
     "text": [
      "False\n",
      "True\n",
      "True\n",
      "True\n",
      "True\n"
     ]
    }
   ],
   "source": [
    "print(all([0, 1,2,3]))  # o valor zero é falso, logo, devolve False\n",
    "\n",
    "print(all([1,2,3]))\n",
    "\n",
    "print(all([]))\n",
    "\n",
    "print(all('lucas'))\n",
    "\n",
    "print(all({1,2,3}))"
   ]
  },
  {
   "cell_type": "code",
   "execution_count": 8,
   "metadata": {},
   "outputs": [
    {
     "name": "stdout",
     "output_type": "stream",
     "text": [
      "False\n"
     ]
    }
   ],
   "source": [
    "nomes = ['lucas', 'luan', 'luana', 'dani']\n",
    "\n",
    "x = all([nome[0] == 'l' for nome in nomes])\n",
    "\n",
    "print(x)"
   ]
  },
  {
   "cell_type": "code",
   "execution_count": 15,
   "metadata": {},
   "outputs": [
    {
     "name": "stdout",
     "output_type": "stream",
     "text": [
      "True\n",
      "False\n",
      "True\n"
     ]
    }
   ],
   "source": [
    "print(any([0, 1, 2, 3]))\n",
    "\n",
    "print(any([]))\n",
    "\n",
    "print(any([num for num in [4,6,8,10] if num % 2 == 0]))"
   ]
  },
  {
   "attachments": {},
   "cell_type": "markdown",
   "metadata": {},
   "source": [
    "##### Generators -  tuple comprehension, ocupa menos recurso em memória"
   ]
  },
  {
   "cell_type": "code",
   "execution_count": 3,
   "metadata": {},
   "outputs": [
    {
     "name": "stdout",
     "output_type": "stream",
     "text": [
      "(True, True, True)\n"
     ]
    }
   ],
   "source": [
    "nomes = ['lucas', 'luan', 'larissa']\n",
    "\n",
    "res = (nome[0] == 'l' for nome in nomes)\n",
    "print(tuple(res))"
   ]
  },
  {
   "cell_type": "code",
   "execution_count": 4,
   "metadata": {},
   "outputs": [
    {
     "name": "stdout",
     "output_type": "stream",
     "text": [
      "54\n"
     ]
    }
   ],
   "source": [
    "from sys import getsizeof  # retorna a quantidade de bytes que determinado\n",
    "# elemento ocupa na memória\n",
    "\n",
    "print(getsizeof('lucas'))"
   ]
  },
  {
   "cell_type": "code",
   "execution_count": 8,
   "metadata": {},
   "outputs": [
    {
     "name": "stdout",
     "output_type": "stream",
     "text": [
      "8856\n"
     ]
    }
   ],
   "source": [
    "# list comprehension\n",
    "\n",
    "list_comp = getsizeof([x * 10 for x in range(1000)])\n",
    "print(list_comp)"
   ]
  },
  {
   "cell_type": "code",
   "execution_count": 9,
   "metadata": {},
   "outputs": [
    {
     "name": "stdout",
     "output_type": "stream",
     "text": [
      "104\n"
     ]
    }
   ],
   "source": [
    "# tuple comprehension\n",
    "\n",
    "list_comp = getsizeof(x * 10 for x in range(1000))\n",
    "print(list_comp)"
   ]
  },
  {
   "cell_type": "code",
   "execution_count": 10,
   "metadata": {},
   "outputs": [
    {
     "name": "stdout",
     "output_type": "stream",
     "text": [
      "36960\n"
     ]
    }
   ],
   "source": [
    "# Dict comprehension\n",
    "\n",
    "list_comp = getsizeof({x: x * 10 for x in range(1000)})\n",
    "print(list_comp)"
   ]
  },
  {
   "cell_type": "code",
   "execution_count": 11,
   "metadata": {},
   "outputs": [
    {
     "name": "stdout",
     "output_type": "stream",
     "text": [
      "32984\n"
     ]
    }
   ],
   "source": [
    "# Set comprehension\n",
    "\n",
    "list_comp = getsizeof({x * 10 for x in range(1000)})\n",
    "print(list_comp)"
   ]
  },
  {
   "cell_type": "code",
   "execution_count": 15,
   "metadata": {},
   "outputs": [
    {
     "name": "stdout",
     "output_type": "stream",
     "text": [
      "0\n",
      "10\n",
      "20\n",
      "30\n",
      "40\n",
      "50\n",
      "60\n",
      "70\n",
      "80\n",
      "90\n"
     ]
    }
   ],
   "source": [
    "\n",
    "# generator é iterável\n",
    "\n",
    "# gen = getsizeof(x * 10 for x in range(1000))\n",
    "# print(gen)\n",
    "\n",
    "gen = [x * 10 for x in range(10)]\n",
    "\n",
    "for x in gen:\n",
    "    print(x)"
   ]
  },
  {
   "attachments": {},
   "cell_type": "markdown",
   "metadata": {},
   "source": [
    "##### Sorted - ordenar elementos, mantendo os elementos originais inalteráveis. Sempre devolve na forma de lista"
   ]
  },
  {
   "cell_type": "code",
   "execution_count": 18,
   "metadata": {},
   "outputs": [
    {
     "data": {
      "text/plain": [
       "[0, 4, 7, 8, 10]"
      ]
     },
     "execution_count": 18,
     "metadata": {},
     "output_type": "execute_result"
    }
   ],
   "source": [
    "num = [4, 7, 8, 0, 10]\n",
    "num.sort()\n",
    "num"
   ]
  },
  {
   "cell_type": "code",
   "execution_count": 20,
   "metadata": {},
   "outputs": [
    {
     "name": "stdout",
     "output_type": "stream",
     "text": [
      "[0, 4, 7, 8, 10]\n",
      "[4, 7, 8, 0, 10]\n"
     ]
    }
   ],
   "source": [
    "num1 = [4, 7, 8, 0, 10]\n",
    "print(sorted(num1))\n",
    "print(num1)"
   ]
  },
  {
   "cell_type": "code",
   "execution_count": 21,
   "metadata": {},
   "outputs": [
    {
     "name": "stdout",
     "output_type": "stream",
     "text": [
      "[10, 8, 7, 4, 0]\n"
     ]
    }
   ],
   "source": [
    "print(sorted(num, reverse=True)) # oderna do maior para o maior"
   ]
  },
  {
   "cell_type": "code",
   "execution_count": 23,
   "metadata": {},
   "outputs": [
    {
     "name": "stdout",
     "output_type": "stream",
     "text": [
      "[{'username': 'samuel', 'tweets': ['eu gosto do meu gato', 'adoro pizza']}, {'username': 'pedro', 'tweets': ['eu gosto do meu cachorro', 'adoro pizza']}, {'username': 'lucas', 'tweets': []}, {'username': 'carla', 'tweets': ['hoje está um dis lindo']}, {'username': 'bob', 'tweets': []}]\n"
     ]
    }
   ],
   "source": [
    "usuarios = [\n",
    "    {'username': 'samuel', 'tweets': ['eu gosto do meu gato', 'adoro pizza']},\n",
    "    {'username': 'lucas', 'tweets': []},\n",
    "    {'username': 'carla', 'tweets': ['hoje está um dis lindo']},\n",
    "    {'username': 'pedro', 'tweets': ['eu gosto do meu cachorro', 'adoro pizza']},\n",
    "    {'username': 'bob', 'tweets': []}\n",
    "\n",
    "]\n",
    "\n",
    "# Ordenação pelo nome\n",
    "print(sorted(usuarios, key= lambda usuario: usuario['username'], reverse=True))"
   ]
  },
  {
   "cell_type": "code",
   "execution_count": 24,
   "metadata": {},
   "outputs": [
    {
     "name": "stdout",
     "output_type": "stream",
     "text": [
      "[{'username': 'lucas', 'tweets': []}, {'username': 'bob', 'tweets': []}, {'username': 'carla', 'tweets': ['hoje está um dis lindo']}, {'username': 'samuel', 'tweets': ['eu gosto do meu gato', 'adoro pizza']}, {'username': 'pedro', 'tweets': ['eu gosto do meu cachorro', 'adoro pizza']}]\n"
     ]
    }
   ],
   "source": [
    "# número de tweets\n",
    "print(sorted(usuarios, key= lambda usuario: len(usuario['tweets'])))"
   ]
  },
  {
   "attachments": {},
   "cell_type": "markdown",
   "metadata": {},
   "source": [
    "#### Min e Max"
   ]
  },
  {
   "cell_type": "code",
   "execution_count": 2,
   "metadata": {},
   "outputs": [
    {
     "name": "stdout",
     "output_type": "stream",
     "text": [
      "125\n",
      "c\n",
      "abc\n"
     ]
    }
   ],
   "source": [
    "dados = {'a': 15, 'b': 125}\n",
    "\n",
    "print(max(dados.values()))\n",
    "\n",
    "\n",
    "print(max('a', 'b', 'c'))\n",
    "\n",
    "print(max('a', 'ab', 'abc'))"
   ]
  },
  {
   "cell_type": "code",
   "execution_count": 6,
   "metadata": {},
   "outputs": [
    {
     "name": "stdout",
     "output_type": "stream",
     "text": [
      "zeus\n",
      "Ana\n"
     ]
    }
   ],
   "source": [
    "nomes = ['Ana', 'Lucas', 'Oliver', 'zeus']\n",
    "\n",
    "print(max(nomes))\n",
    "print(min(nomes))"
   ]
  },
  {
   "cell_type": "code",
   "execution_count": 5,
   "metadata": {},
   "outputs": [
    {
     "name": "stdout",
     "output_type": "stream",
     "text": [
      "Oliver\n",
      "Ana\n"
     ]
    }
   ],
   "source": [
    "print(max(nomes, key = lambda x: len(x)))\n",
    "print(min(nomes, key = lambda x: len(x)))\n",
    "\n"
   ]
  },
  {
   "cell_type": "code",
   "execution_count": 12,
   "metadata": {},
   "outputs": [
    {
     "name": "stdout",
     "output_type": "stream",
     "text": [
      "{'titulo': 'circle', 'tocou': 10}\n"
     ]
    }
   ],
   "source": [
    "musicas = [\n",
    "    {\"titulo\": \"dark\", \"tocou\": 8},\n",
    "    {\"titulo\": \"one\", \"tocou\": 1},\n",
    "    {\"titulo\": \"mj\", \"tocou\": 2},\n",
    "    {\"titulo\": \"circle\", \"tocou\": 10},\n",
    "    {\"titulo\": \"black or white\", \"tocou\": 9}\n",
    "\n",
    "]\n",
    "\n",
    "print(max(musicas, key= lambda musica: musica['tocou']))"
   ]
  },
  {
   "cell_type": "code",
   "execution_count": 49,
   "metadata": {},
   "outputs": [
    {
     "name": "stdout",
     "output_type": "stream",
     "text": [
      "circle\n"
     ]
    }
   ],
   "source": [
    "max = 0\n",
    "for music in musicas:\n",
    "    if music['tocou'] > max:\n",
    "        max = music['tocou']\n",
    "\n",
    "for music in musicas:\n",
    "    if music['tocou'] == max:\n",
    "        print(music['titulo'])"
   ]
  },
  {
   "cell_type": "code",
   "execution_count": 52,
   "metadata": {},
   "outputs": [
    {
     "name": "stdout",
     "output_type": "stream",
     "text": [
      "one\n"
     ]
    }
   ],
   "source": [
    "min = 999\n",
    "for music in musicas:\n",
    "    if  music['tocou'] < min:\n",
    "        min = music['tocou']\n",
    "\n",
    "for music in musicas:\n",
    "    if music['tocou'] == min:\n",
    "        print(music['titulo'])"
   ]
  },
  {
   "attachments": {},
   "cell_type": "markdown",
   "metadata": {},
   "source": [
    "##### Reversed - funciona com qualquer iterável. Invertendo o iterável\n",
    "###### reverse - só serve para listas. Altera os elementos da lista\n",
    "###### Podemos converter o elemento em lista, tupla ou conjunto"
   ]
  },
  {
   "cell_type": "code",
   "execution_count": 1,
   "metadata": {},
   "outputs": [],
   "source": [
    "lista = [1,2,3,4,5]\n",
    "re = reversed(lista)\n",
    "\n",
    "# print(list(re))\n",
    "# print(set(re))\n",
    "# print(tuple(re))"
   ]
  },
  {
   "cell_type": "code",
   "execution_count": 59,
   "metadata": {},
   "outputs": [
    {
     "name": "stdout",
     "output_type": "stream",
     "text": [
      "set()\n"
     ]
    }
   ],
   "source": [
    "print(set(re))"
   ]
  },
  {
   "attachments": {},
   "cell_type": "markdown",
   "metadata": {},
   "source": [
    "#### Len, Sum, Round e Abs"
   ]
  },
  {
   "cell_type": "code",
   "execution_count": 3,
   "metadata": {},
   "outputs": [
    {
     "name": "stdout",
     "output_type": "stream",
     "text": [
      "5\n",
      "3.15\n"
     ]
    }
   ],
   "source": [
    "# abs -  retorna o valor absoluto\n",
    "\n",
    "print(abs(-5))\n",
    "print(abs(3.15))"
   ]
  },
  {
   "cell_type": "code",
   "execution_count": 4,
   "metadata": {},
   "outputs": [
    {
     "name": "stdout",
     "output_type": "stream",
     "text": [
      "20\n"
     ]
    }
   ],
   "source": [
    "# valor default é zero\n",
    "print(sum([1,2,3,4,5], 5))"
   ]
  },
  {
   "cell_type": "code",
   "execution_count": 6,
   "metadata": {},
   "outputs": [
    {
     "name": "stdout",
     "output_type": "stream",
     "text": [
      "3.16\n"
     ]
    }
   ],
   "source": [
    "# round - retorna um número arredondado\n",
    "# precisão de duas casas decimais\n",
    "print(round(3.15897, 2))"
   ]
  },
  {
   "attachments": {},
   "cell_type": "markdown",
   "metadata": {},
   "source": [
    "##### Zip - Cria um iterável (zip object) que agrega elemento de cada um dos iteráveis passados como entrada em pares"
   ]
  },
  {
   "cell_type": "code",
   "execution_count": 16,
   "metadata": {},
   "outputs": [
    {
     "name": "stdout",
     "output_type": "stream",
     "text": [
      "<zip object at 0x000002D577047840>\n",
      "[(1, 4, 7), (2, 5, 8), (3, 6, 9)]\n"
     ]
    }
   ],
   "source": [
    "lista1 = [1,2,3]\n",
    "lista2 = [4,5,6]\n",
    "lista3 = [7,8,9,10]\n",
    "z1 = zip(lista1, lista2, lista3)\n",
    "\n",
    "print(z1)\n",
    "print(list(z1))\n",
    "\n",
    "# OBS - utiliza o menor tamanho de elementos como parâmetro"
   ]
  },
  {
   "cell_type": "code",
   "execution_count": 19,
   "metadata": {},
   "outputs": [
    {
     "name": "stdout",
     "output_type": "stream",
     "text": [
      "[(0, 1, 2), (1, 2, 3)]\n"
     ]
    }
   ],
   "source": [
    "dados = [(0,1), (1,2), (2,3)]\n",
    "\n",
    "z1 = list(zip(*dados))\n",
    "print(z1)"
   ]
  },
  {
   "cell_type": "code",
   "execution_count": 20,
   "metadata": {},
   "outputs": [
    {
     "name": "stdout",
     "output_type": "stream",
     "text": [
      "{'lucas': 40, 'pedro': 50, 'maria': 60}\n"
     ]
    }
   ],
   "source": [
    "prova1 = [10,20,30]\n",
    "prova2 = [40,50,60]\n",
    "nomes = ['lucas', 'pedro', 'maria']\n",
    "\n",
    "z1 = {dados[0]: max(dados[1], dados[2]) for dados in zip(nomes, prova1, prova2)}\n",
    "\n",
    "print(z1)"
   ]
  },
  {
   "cell_type": "code",
   "execution_count": 25,
   "metadata": {},
   "outputs": [
    {
     "name": "stdout",
     "output_type": "stream",
     "text": [
      "[('lucas', 40), ('pedro', 50), ('maria', 60)]\n"
     ]
    }
   ],
   "source": [
    "final = zip(nomes, map(lambda notas: max(notas), zip(prova1, prova2)))\n",
    "\n",
    "print(list(final))"
   ]
  },
  {
   "cell_type": "code",
   "execution_count": null,
   "metadata": {},
   "outputs": [],
   "source": []
  }
 ],
 "metadata": {
  "kernelspec": {
   "display_name": "Python 3",
   "language": "python",
   "name": "python3"
  },
  "language_info": {
   "codemirror_mode": {
    "name": "ipython",
    "version": 3
   },
   "file_extension": ".py",
   "mimetype": "text/x-python",
   "name": "python",
   "nbconvert_exporter": "python",
   "pygments_lexer": "ipython3",
   "version": "3.10.11"
  },
  "orig_nbformat": 4,
  "vscode": {
   "interpreter": {
    "hash": "4deb986f3ce6d39d52ae36d5b72d27b1f73a8b6b686c07859b235a0545bfc1d1"
   }
  }
 },
 "nbformat": 4,
 "nbformat_minor": 2
}
