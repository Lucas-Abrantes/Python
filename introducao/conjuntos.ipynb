{
 "cells": [
  {
   "cell_type": "code",
   "execution_count": 50,
   "metadata": {},
   "outputs": [
    {
     "name": "stdout",
     "output_type": "stream",
     "text": [
      "5\n"
     ]
    }
   ],
   "source": [
    "# dicionarios e conjuntos não aceitam valores duplicados\n",
    "\n",
    "lista = ['a', 'b', 'c', 'a', 'd', 3]\n",
    "# uma maneira de identificar valores unicos\n",
    "print(len(set(lista)))\n"
   ]
  },
  {
   "cell_type": "code",
   "execution_count": 51,
   "metadata": {},
   "outputs": [
    {
     "name": "stdout",
     "output_type": "stream",
     "text": [
      "{1, 2, 4, 10}\n",
      "{1, 2, 10, 4}\n",
      "{1, 2, 4, 21, 10}\n",
      "{1, 2, 4, 21, 10}\n",
      "set()\n"
     ]
    }
   ],
   "source": [
    "conj = {1, 2, 3, 4, 5}\n",
    "\n",
    "# conjuntos não são idexados\n",
    "\n",
    "conj.remove(3)\n",
    "\n",
    "conj.add(10)\n",
    "\n",
    "#remeve elemento\n",
    "conj.discard(5)\n",
    "\n",
    "print(conj)\n",
    "\n",
    "\n",
    "# Depp copy\n",
    "novo = conj.copy()\n",
    "\n",
    "print(novo)\n",
    "\n",
    "\n",
    "\n",
    "# Shalloow copy\n",
    "# ambos recebem o valor 21, pois novo recebe os mesmo valores de conj\n",
    "# não é criado outro espaço na memória para fazer essa distinção\n",
    "\n",
    "novo = conj\n",
    "\n",
    "novo.add(21)\n",
    "\n",
    "print(novo)\n",
    "print(conj)\n",
    "\n",
    "\n",
    "# clear remove todos os elementos do conjunto\n",
    "novo.clear()\n",
    "print(novo)"
   ]
  },
  {
   "cell_type": "markdown",
   "metadata": {},
   "source": [
    "#### Módulo Collections Counter\n",
    "\n",
    "##### tipos de dados de cointainer de alta performance\n",
    "\n",
    "###### recebe um interável como parâmetro e cria um objeto do tipo Collections Counter que, por sua vez, é\n",
    "###### parecido com um dicionário, contendo como o chave o elemento da lista passado. Já como valor, a quantidade\n",
    "###### de ocorreências desse elemento"
   ]
  },
  {
   "cell_type": "code",
   "execution_count": 52,
   "metadata": {},
   "outputs": [
    {
     "name": "stdout",
     "output_type": "stream",
     "text": [
      "<class 'collections.Counter'>\n",
      "Counter({3: 3, 1: 2, 2: 2, 4: 2, 5: 2, 0: 2, 6: 1, 8: 1, 7: 1})\n"
     ]
    }
   ],
   "source": [
    "from collections import Counter\n",
    "\n",
    "\n",
    "lista = [1, 1, 2, 3, 2, 3, 3, 4, 4, 5, 6, 5, 8, 7, 0, 0]\n",
    "\n",
    "res = Counter(lista)\n",
    "\n",
    "print(type(res))\n",
    "print(res)"
   ]
  },
  {
   "cell_type": "code",
   "execution_count": 53,
   "metadata": {},
   "outputs": [
    {
     "name": "stdout",
     "output_type": "stream",
     "text": [
      "Counter({'a': 3, 's': 2, 'l': 1, 'u': 1, 'c': 1, ' ': 1, 'b': 1, 'r': 1, 'n': 1, 't': 1, 'e': 1})\n"
     ]
    }
   ],
   "source": [
    "print(Counter(\"lucas abrantes\"))"
   ]
  },
  {
   "cell_type": "code",
   "execution_count": 54,
   "metadata": {},
   "outputs": [
    {
     "name": "stdout",
     "output_type": "stream",
     "text": [
      "Counter({'de': 3, 'do': 3, 'a': 2, 'traz': 2, 'para': 2, 'e': 2, 'o': 2, 'Neste': 1, 'curso,': 1, 'Geek': 1, 'University': 1, 'você': 1, 'mais': 1, '64': 1, 'horas': 1, 'conteúdo': 1, 'Python,': 1, 'básico': 1, 'ao': 1, 'avançado,': 1, 'com': 1, 'explicações': 1, 'claras': 1, 'programação': 1, 'passo-a-passo': 1, 'utilizando': 1, 'última': 1, 'versão': 1, 'da': 1, 'linguagem': 1, 'Python': 1, '3.8.5,': 1, 'sem': 1, 'deixar': 1, 'nada': 1, 'pra': 1, 'melhor': 1, 'tudo,': 1, 'realizando': 1, 'repetições': 1, 'durante': 1, 'decorrer': 1, 'curso': 1, 'auxiliar': 1, 'na': 1, 'fixação': 1, 'aprendizado.': 1})\n",
      "[('de', 3), ('do', 3), ('a', 2), ('traz', 2), ('para', 2)]\n"
     ]
    }
   ],
   "source": [
    "texto = '''Neste curso, a Geek University traz para você mais de 64 horas de conteúdo Python, do básico ao avançado, \n",
    "com explicações claras e programação passo-a-passo utilizando a última versão da linguagem Python 3.8.5, \n",
    "sem deixar nada pra traz e o melhor de tudo, \n",
    "realizando repetições durante o decorrer do curso para auxiliar na fixação do aprendizado.'''\n",
    "\n",
    "\n",
    "cont = texto.split()\n",
    "\n",
    "res = Counter(cont)\n",
    "\n",
    "print(res)\n",
    "\n",
    "\n",
    "# encontrando as palavras com mais ocorrência\n",
    "\n",
    "print(res.most_common(5))\n",
    "\n"
   ]
  },
  {
   "cell_type": "markdown",
   "metadata": {},
   "source": [
    "#### Default Dict\n",
    "\n",
    "##### evita keyerro. Podemos passar valores não definidos. Caso tentemos acessar uma chave que não existe\n",
    "##### essa chave será criada e o valor default atribuido"
   ]
  },
  {
   "cell_type": "code",
   "execution_count": 55,
   "metadata": {},
   "outputs": [
    {
     "name": "stdout",
     "output_type": "stream",
     "text": [
      "defaultdict(<function <lambda> at 0x000001CDBA027E20>, {'curso': 'Programador'})\n",
      "0\n",
      "defaultdict(<function <lambda> at 0x000001CDBA027E20>, {'curso': 'Programador', 'cidade': 0})\n"
     ]
    }
   ],
   "source": [
    "from collections import defaultdict\n",
    "\n",
    "dic = defaultdict(lambda: 0)\n",
    "\n",
    "dic['curso'] = 'Programador'\n",
    "\n",
    "print(dic)\n",
    "\n",
    "print(dic['cidade'])\n",
    "\n",
    "print(dic)"
   ]
  },
  {
   "cell_type": "markdown",
   "metadata": {},
   "source": [
    "### Ordered Dict\n",
    "\n",
    "##### garante a ordenação do dicionário\n",
    "##### no dicionário comum, a ordem não importa"
   ]
  },
  {
   "cell_type": "code",
   "execution_count": 56,
   "metadata": {},
   "outputs": [
    {
     "name": "stdout",
     "output_type": "stream",
     "text": [
      "True\n"
     ]
    }
   ],
   "source": [
    "from collections import OrderedDict\n",
    "\n",
    "dict1 = OrderedDict({'a': 1})\n",
    "dict2 = OrderedDict({'a': 1})\n",
    "\n",
    "print(dict1 == dict2)"
   ]
  },
  {
   "cell_type": "markdown",
   "metadata": {},
   "source": [
    "#### Named Tuple\n",
    "\n",
    "##### especificamos um nome e passamos parâmetros"
   ]
  },
  {
   "cell_type": "code",
   "execution_count": 57,
   "metadata": {},
   "outputs": [
    {
     "name": "stdout",
     "output_type": "stream",
     "text": [
      "cachorro(raca='dog', idade=10, nome='derick')\n",
      "dog\n",
      "10\n",
      "derick\n",
      "\n",
      "derick\n",
      "10\n",
      "dog\n"
     ]
    }
   ],
   "source": [
    "from collections import namedtuple\n",
    "\n",
    "\n",
    "# Forma 1 - declaração\n",
    "cachorro = namedtuple('cachorro', 'raca idade nome')\n",
    "\n",
    "\n",
    "# Forma 2 - declaração\n",
    "cachorro = namedtuple('cachorro', 'raca, idade, nome')\n",
    "\n",
    "\n",
    "# Forma 3 - declaração\n",
    "cachorro = namedtuple('cachorro', ['raca', 'idade', 'nome'])\n",
    "\n",
    "\n",
    "x1 = cachorro(raca='dog', idade = 10, nome='derick')\n",
    "\n",
    "print(x1)\n",
    "print(x1[0])\n",
    "print(x1[1])\n",
    "print(x1[2])\n",
    "\n",
    "print('')\n",
    "\n",
    "print(x1.nome)\n",
    "print(x1.idade)\n",
    "print(x1.raca)\n"
   ]
  },
  {
   "cell_type": "markdown",
   "metadata": {},
   "source": [
    "### Deque"
   ]
  },
  {
   "cell_type": "markdown",
   "metadata": {},
   "source": [
    "#### Deque é uma lista de alta perfomance"
   ]
  },
  {
   "cell_type": "code",
   "execution_count": 58,
   "metadata": {},
   "outputs": [
    {
     "name": "stdout",
     "output_type": "stream",
     "text": [
      "deque(['g', 'e', 'e', 'k', 'y'])\n",
      "deque(['oi', 'g', 'e', 'e', 'k', 'y'])\n",
      "oi\n"
     ]
    }
   ],
   "source": [
    "from collections import deque\n",
    "\n",
    "lista = deque('geek')\n",
    "\n",
    "lista.append('y')\n",
    "print(lista)\n",
    "\n",
    "lista.appendleft('oi')\n",
    "print(lista)\n",
    "\n",
    "# remove o primeiro elemento\n",
    "print(lista.popleft())\n"
   ]
  },
  {
   "cell_type": "code",
   "execution_count": 59,
   "metadata": {},
   "outputs": [
    {
     "name": "stdout",
     "output_type": "stream",
     "text": [
      "Linha : 1 / coluna: 1\n",
      "Linha : 1 / coluna: 2\n",
      "Linha : 1 / coluna: 3\n",
      "Linha : 2 / coluna: 3\n",
      "Linha : 3 / coluna: 3\n",
      "Linha : 4 / coluna: 3\n",
      "Linha : 5 / coluna: 3\n",
      "Linha : 6 / coluna: 3\n"
     ]
    }
   ],
   "source": [
    "lab = [\n",
    "  ['x', 'x', 'x', 'x', 'x', 'x', 'x', 'x', 'x', 'x' ],\n",
    "  ['x', ' ', ' ', ' ', ' ', ' ', ' ', ' ', ' ', 'x' ],\n",
    "  ['x', ' ', ' ', ' ', ' ', ' ', ' ', ' ', ' ', 'x' ],\n",
    "  ['x', ' ', ' ', ' ', ' ', ' ', ' ', ' ', ' ', 'x' ],\n",
    "  ['x', ' ', ' ', ' ', ' ', ' ', ' ', ' ', ' ', 'x' ],\n",
    "  ['x', ' ', 'G', ' ', ' ', ' ', ' ', ' ', ' ', 'x' ],\n",
    "  ['x', ' ', ' ', ' ', ' ', ' ', ' ', ' ', ' ', 'x' ],\n",
    "  ['x', ' ', ' ', ' ', ' ', ' ', ' ', ' ', ' ', 'x' ],\n",
    "  ['x', ' ', ' ', ' ', ' ', ' ', ' ', ' ', ' ', 'x' ],\n",
    "  ['x', ' ', ' ', ' ', ' ', ' ', ' ', ' ', ' ', 'x' ],\n",
    "  ['x', ' ', ' ', ' ', ' ', ' ', ' ', ' ', ' ', 'x' ],\n",
    "  ['x', 'x', 'x', 'x', 'x', 'x', 'x', 'x', 'x', 'x' ]\n",
    "]\n",
    "\n",
    "\n",
    "class State:\n",
    "\n",
    "  def __init__(self, parent, linha, coluna):\n",
    "    self.parent = parent\n",
    "    self.linha = linha\n",
    "    self.coluna = coluna\n",
    "\n",
    "\n",
    "caminho  = []\n",
    "\n",
    "def showState(s):\n",
    "  print(f\"Linha : {s.linha} / coluna: {s.coluna}\")\n",
    "  \n",
    "\n",
    "\n",
    "def initialState():\n",
    "  return State(None, 1, 1)\n",
    "\n",
    "\n",
    "def goal(s):\n",
    "  return s.linha == 6 and s.coluna == 3\n",
    "  \n",
    "\n",
    "def actionEsquerda(s):\n",
    "  return State(None, s.linha, s.coluna -1)\n",
    "\n",
    "\n",
    "def actionDireita(s):\n",
    "  return State(s, s.linha, s.coluna + 1)\n",
    "\n",
    "\n",
    "def actionCima(s):\n",
    "  return State(s, s.linha + 1, s.coluna)\n",
    "\n",
    "\n",
    "def actionBaixo(s):\n",
    "  return State(s, s.linha - 1, s.coluna)\n",
    "\n",
    "\n",
    "def expand(s):\n",
    "  ret = []\n",
    "  if (lab[s.linha][s.coluna] == 'x'):\n",
    "    return []\n",
    "  ret.append(actionDireita(s))\n",
    "  ret.append(actionEsquerda(s))\n",
    "  ret.append(actionCima(s))\n",
    "  ret.append(actionBaixo(s))\n",
    "\n",
    "  return ret\n",
    "\n",
    "\n",
    "def showPath(s):\n",
    "  if(s == None):\n",
    "    return\n",
    "  showPath(s.parent)\n",
    "  showState(s)\n",
    "  \n",
    "\n",
    "queue = []\n",
    "\n",
    "def enqueue(s):\n",
    "  queue.append(s)\n",
    "\n",
    "\n",
    "def dequeue():\n",
    "  return queue.pop(0)\n",
    "\n",
    "s = initialState()\n",
    "enqueue(s)\n",
    "\n",
    "while(queue):\n",
    "  s = dequeue()\n",
    "\n",
    "  if(goal(s)):\n",
    "    showPath(s)\n",
    "    break\n",
    "\n",
    "  children = expand(s)\n",
    "  for child in children:\n",
    "    enqueue(child)\n",
    "\n"
   ]
  },
  {
   "cell_type": "code",
   "execution_count": 60,
   "metadata": {},
   "outputs": [
    {
     "ename": "SyntaxError",
     "evalue": "'return' outside function (1989757682.py, line 15)",
     "output_type": "error",
     "traceback": [
      "\u001b[1;36m  Input \u001b[1;32mIn [60]\u001b[1;36m\u001b[0m\n\u001b[1;33m    return ret\u001b[0m\n\u001b[1;37m    ^\u001b[0m\n\u001b[1;31mSyntaxError\u001b[0m\u001b[1;31m:\u001b[0m 'return' outside function\n"
     ]
    }
   ],
   "source": [
    "m = [\n",
    "  [0, 1, 1, 0, 0, 0],\n",
    "  [0, 0, 0, 1, 0, 0],\n",
    "  [0, 0, 0, 0, 1, 0],\n",
    "  [0, 0, 0, 0, 0, 1],\n",
    "  [0, 1, 0, 0, 0, 0],\n",
    "  [0, 0, 0, 0, 0, 0]\n",
    "]\n",
    "\n",
    "ret = []\n",
    "\n",
    "for i in range(5):\n",
    "  if m[i] == 1:\n",
    "    ret.append(i)\n",
    "return ret"
   ]
  },
  {
   "cell_type": "code",
   "execution_count": 69,
   "metadata": {},
   "outputs": [
    {
     "name": "stdout",
     "output_type": "stream",
     "text": [
      "Cidade: 0\n",
      "Cidade: 1\n",
      "Cidade: 3\n",
      "Cidade: 5\n"
     ]
    }
   ],
   "source": [
    "\n",
    "m = [\n",
    "  [0, 1, 1, 0, 0, 0],\n",
    "  [0, 0, 0, 1, 0, 0],\n",
    "  [0, 0, 0, 0, 1, 0],\n",
    "  [0, 0, 0, 0, 0, 1],\n",
    "  [0, 1, 0, 0, 0, 0],\n",
    "  [0, 0, 0, 0, 0, 0]\n",
    "]\n",
    "\n",
    "#estado inical 0\n",
    "#objetivo cidade 5\n",
    "# 1 se a cidade i ficar apontando para a  cidade j\n",
    "# 0 c.c\n",
    "\n",
    "class State:\n",
    "\n",
    "  def __init__(self, parent, cidade):\n",
    "    self.parent = parent\n",
    "    self.cidade = cidade\n",
    "\n",
    "\n",
    "def showState(s):\n",
    "  print(f\"Cidade: {s.cidade}\")\n",
    "\n",
    "\n",
    "def initialState():\n",
    "  return State(None, 0)\n",
    "\n",
    "\n",
    "def goal(s):\n",
    "  return  s.cidade == 5\n",
    "\n",
    "\n",
    "#def action(s):  # lista de estados vizinhos. Nós filhos\n",
    "#  return State(s)\n",
    "\n",
    "def expand(s):\n",
    "  ret = []\n",
    "  for i in range(6):\n",
    "    if m[s.cidade][i] == 1:\n",
    "      ret.append(State(s, i))\n",
    "  return ret\n",
    "\n",
    "def showPath(s):  #volta ao estado inicial que contém None\n",
    "  if(s == None):\n",
    "    return\n",
    "  showPath(s.parent)\n",
    "  showState(s)\n",
    "\n",
    "queue = []\n",
    "\n",
    "def enqueue(s):\n",
    "  queue.append(s)\n",
    "\n",
    "def dequeue():\n",
    "  return queue.pop(0)\n",
    "\n",
    "s = initialState()\n",
    "enqueue(s)\n",
    "\n",
    "while(queue):\n",
    "  s = dequeue()\n",
    "  #showState(s)\n",
    "  if(goal(s)):\n",
    "    showPath(s)\n",
    "    break\n",
    "\n",
    "  children = expand(s)\n",
    "  for child in children:\n",
    "    enqueue(child)\n",
    "\n"
   ]
  },
  {
   "cell_type": "code",
   "execution_count": 65,
   "metadata": {},
   "outputs": [
    {
     "name": "stdout",
     "output_type": "stream",
     "text": [
      "Cidade: 1\n",
      "Cidade: 2\n"
     ]
    }
   ],
   "source": [
    "retorno = expand(initialState())\n",
    "\n",
    "for c in retorno:\n",
    "    showState(c)"
   ]
  },
  {
   "cell_type": "code",
   "execution_count": null,
   "metadata": {},
   "outputs": [],
   "source": []
  }
 ],
 "metadata": {
  "kernelspec": {
   "display_name": "Python 3.10.8 64-bit (microsoft store)",
   "language": "python",
   "name": "python3"
  },
  "language_info": {
   "codemirror_mode": {
    "name": "ipython",
    "version": 3
   },
   "file_extension": ".py",
   "mimetype": "text/x-python",
   "name": "python",
   "nbconvert_exporter": "python",
   "pygments_lexer": "ipython3",
   "version": "3.10.11"
  },
  "orig_nbformat": 4,
  "vscode": {
   "interpreter": {
    "hash": "4deb986f3ce6d39d52ae36d5b72d27b1f73a8b6b686c07859b235a0545bfc1d1"
   }
  }
 },
 "nbformat": 4,
 "nbformat_minor": 2
}
