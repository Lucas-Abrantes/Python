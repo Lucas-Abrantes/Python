{
 "cells": [
  {
   "attachments": {},
   "cell_type": "markdown",
   "metadata": {},
   "source": [
    "#### Listas: é uma coleção de itens. Armazena diferentes tipos de dados.\n",
    "\n",
    "##### Pode-se adicionar, remover e alterar elemetos da lista\n",
    "##### As listas possuem indice, em outras palavras, para acessar um elemento da lista será necessário passar a posição que aquele elemento ocupa"
   ]
  },
  {
   "cell_type": "code",
   "execution_count": 1,
   "metadata": {},
   "outputs": [
    {
     "name": "stdout",
     "output_type": "stream",
     "text": [
      "['pedro', 25, '45', False, 2.55]\n"
     ]
    }
   ],
   "source": [
    "dados = ['pedro', 25, '45', False, 2.55]\n",
    "#           0     1     2      3     4\n",
    "print(dados)"
   ]
  },
  {
   "cell_type": "code",
   "execution_count": 7,
   "metadata": {},
   "outputs": [
    {
     "name": "stdout",
     "output_type": "stream",
     "text": [
      "pedro\n",
      "25\n",
      "45\n",
      "False\n",
      "2.55\n"
     ]
    }
   ],
   "source": [
    "print(dados[0])\n",
    "print(dados[1])\n",
    "print(dados[2])\n",
    "print(dados[3])\n",
    "print(dados[4])"
   ]
  },
  {
   "cell_type": "code",
   "execution_count": 8,
   "metadata": {},
   "outputs": [
    {
     "data": {
      "text/plain": [
       "2.55"
      ]
     },
     "execution_count": 8,
     "metadata": {},
     "output_type": "execute_result"
    }
   ],
   "source": [
    "# também podemos utilizar indices negativos para buscar elementos\n",
    "dados[-1]"
   ]
  },
  {
   "cell_type": "code",
   "execution_count": 9,
   "metadata": {},
   "outputs": [
    {
     "name": "stdout",
     "output_type": "stream",
     "text": [
      "Bem-vindo, Pedro\n"
     ]
    }
   ],
   "source": [
    "msg = 'Bem-vindo, ' + dados[0].title()\n",
    "print(msg)"
   ]
  },
  {
   "attachments": {},
   "cell_type": "markdown",
   "metadata": {},
   "source": [
    "##### Modificando elementos da lista"
   ]
  },
  {
   "cell_type": "code",
   "execution_count": 11,
   "metadata": {},
   "outputs": [
    {
     "name": "stdout",
     "output_type": "stream",
     "text": [
      "['pedro', 'maria', 'mateus', 'fernanda']\n",
      "['bob', 'maria', 'mateus', 'fernanda']\n"
     ]
    }
   ],
   "source": [
    "nome = ['pedro', 'maria', 'mateus', 'fernanda']\n",
    "print(nome)\n",
    "\n",
    "nome[0] = 'bob'\n",
    "print(nome)"
   ]
  },
  {
   "cell_type": "code",
   "execution_count": 22,
   "metadata": {},
   "outputs": [
    {
     "name": "stdout",
     "output_type": "stream",
     "text": [
      "[4, 'vermelho', 4.5]\n"
     ]
    }
   ],
   "source": [
    "# método append() --> permite adicionar elementos na lista\n",
    "\n",
    "num = []\n",
    "\n",
    "num.append(4)\n",
    "num.append('vermelho')\n",
    "num.append(4.5)\n",
    "\n",
    "print(num)"
   ]
  },
  {
   "cell_type": "code",
   "execution_count": 23,
   "metadata": {},
   "outputs": [
    {
     "name": "stdout",
     "output_type": "stream",
     "text": [
      "['python é ótimo', 4, 'vermelho', 4.5]\n"
     ]
    }
   ],
   "source": [
    "# método insert() --> recebe dois parâmetro. A posição do indice que eu quero\n",
    "# adicionar e o valor\n",
    "\n",
    "num.insert(0, 'python é ótimo')\n",
    "\n",
    "print(num)"
   ]
  },
  {
   "attachments": {},
   "cell_type": "markdown",
   "metadata": {},
   "source": [
    "##### Remover elementos da lista"
   ]
  },
  {
   "cell_type": "code",
   "execution_count": 24,
   "metadata": {},
   "outputs": [
    {
     "name": "stdout",
     "output_type": "stream",
     "text": [
      "['python é ótimo', 4, 'vermelho', 4.5]\n",
      "['python é ótimo', 4, 'vermelho']\n"
     ]
    }
   ],
   "source": [
    "# intrução del permite remover elementos\n",
    "\n",
    "print(num)\n",
    "\n",
    "del num[3]\n",
    "print(num)"
   ]
  },
  {
   "cell_type": "code",
   "execution_count": 25,
   "metadata": {},
   "outputs": [
    {
     "name": "stdout",
     "output_type": "stream",
     "text": [
      "['python é ótimo', 4, 'vermelho']\n",
      "vermelho\n"
     ]
    }
   ],
   "source": [
    "# método pop() --> permite romover elementos de acordo com aposição do elemeto\n",
    "# Além disso, é possível trabalhar com o valor removido, diferetemente do del\n",
    "\n",
    "print(num)\n",
    "num_pop = num.pop()\n",
    "print(num_pop)"
   ]
  },
  {
   "cell_type": "code",
   "execution_count": 6,
   "metadata": {},
   "outputs": [
    {
     "name": "stdout",
     "output_type": "stream",
     "text": [
      "[1, 2, 3, 4, 6]\n"
     ]
    }
   ],
   "source": [
    "# método remove()--> permite remover elementos passados como argumento\n",
    "\n",
    "dados = [1, 2, 3, 4, 5, 6]\n",
    "\n",
    "dados.remove(5)\n",
    "\n",
    "print(dados)"
   ]
  },
  {
   "cell_type": "code",
   "execution_count": 13,
   "metadata": {},
   "outputs": [
    {
     "name": "stdout",
     "output_type": "stream",
     "text": [
      "[1, 8, 9, 10, 22, 88]\n",
      "[88, 22, 10, 9, 8, 1]\n"
     ]
    }
   ],
   "source": [
    "# método sort() --> altera a lista de forma permanente. Deixa a lista ordenada\n",
    "\n",
    "x = [1, 10, 22, 88, 9, 8]\n",
    "x.sort()\n",
    "print(x)\n",
    "\n",
    "# Do maior para o menor\n",
    "\n",
    "x.sort(reverse=True)\n",
    "print(x)"
   ]
  },
  {
   "cell_type": "code",
   "execution_count": 16,
   "metadata": {},
   "outputs": [
    {
     "name": "stdout",
     "output_type": "stream",
     "text": [
      "[1, 8, 9, 10, 22, 88]\n",
      "[88, 22, 10, 9, 8, 1]\n",
      "[1, 10, 22, 88, 9, 8]\n"
     ]
    }
   ],
   "source": [
    "# método sorted() --> altera a lita de forma temporária. Outra forma de ordenação de lista\n",
    "\n",
    "x = [1, 10, 22, 88, 9, 8]\n",
    "\n",
    "# Lista ordenada\n",
    "print(sorted(x))\n",
    "\n",
    "# De maneira reversa\n",
    "print(sorted(x, reverse=True))\n",
    "\n",
    "\n",
    "#Lista original\n",
    "print(x)\n"
   ]
  },
  {
   "cell_type": "code",
   "execution_count": 18,
   "metadata": {},
   "outputs": [
    {
     "name": "stdout",
     "output_type": "stream",
     "text": [
      "[8, 9, 88, 22, 10, 1]\n"
     ]
    }
   ],
   "source": [
    "# método reverse() --> inverte a posição dos elementos das lista e alterando-a de forma\n",
    "# permanente. Pode-se aplicar um segundo reverse para voltar a lista original\n",
    "\n",
    "x = [1, 10, 22, 88, 9, 8]\n",
    "\n",
    "x.reverse()\n",
    "\n",
    "print(x)"
   ]
  },
  {
   "cell_type": "code",
   "execution_count": 19,
   "metadata": {},
   "outputs": [
    {
     "name": "stdout",
     "output_type": "stream",
     "text": [
      "6\n"
     ]
    }
   ],
   "source": [
    "# método len() --> diz o tamanho da lista\n",
    "\n",
    "x = [1, 10, 22, 88, 9, 8]\n",
    "\n",
    "print(len(x))"
   ]
  }
 ],
 "metadata": {
  "kernelspec": {
   "display_name": "base",
   "language": "python",
   "name": "python3"
  },
  "language_info": {
   "codemirror_mode": {
    "name": "ipython",
    "version": 3
   },
   "file_extension": ".py",
   "mimetype": "text/x-python",
   "name": "python",
   "nbconvert_exporter": "python",
   "pygments_lexer": "ipython3",
   "version": "3.9.7"
  },
  "orig_nbformat": 4
 },
 "nbformat": 4,
 "nbformat_minor": 2
}
