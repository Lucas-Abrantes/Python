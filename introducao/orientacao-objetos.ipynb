{
 "cells": [
  {
   "attachments": {},
   "cell_type": "markdown",
   "metadata": {},
   "source": [
    "###### POO - é um paradigma de programação que utiliza um mapeamento de objetos do mundo real para modelos computacionais\n",
    "\n",
    "###### Paradigma de programação é a forma / metodologia utilizada para pensar / desenvolver o problema\n",
    "\n",
    "\n",
    "###### Classe - Modelo do objeto do mundo real sendo representado computacionalmente;\n",
    "\n",
    "###### Atributo - caracteristicas do objeto. Representamos o estado do objeto;\n",
    "\n",
    "###### Método - Comportamento do objeto (funções);\n",
    "\n",
    "\n",
    "###### Construtor - Método especial utilizado para criar objetos;\n",
    "\n",
    "###### Objeto - Instância da classe\n",
    "\n",
    "\n",
    "###### Entidade - objetos que são mapeados para as classes. Representam algo do mundo real. EX: class Lampada\n",
    "\n",
    "\n",
    "##### OBS: método é quando está dentro de uma classe. Função é algo isolado. Ex: def cal():"
   ]
  },
  {
   "cell_type": "code",
   "execution_count": 1,
   "metadata": {},
   "outputs": [
    {
     "name": "stdout",
     "output_type": "stream",
     "text": [
      "<class '__main__.Lampada'>\n"
     ]
    }
   ],
   "source": [
    "class Lampada:\n",
    "    pass\n",
    "\n",
    "lamp = Lampada()\n",
    "\n",
    "print(type(lamp))"
   ]
  },
  {
   "attachments": {},
   "cell_type": "markdown",
   "metadata": {},
   "source": [
    "##### Atributos privados e públicos"
   ]
  },
  {
   "cell_type": "code",
   "execution_count": 13,
   "metadata": {},
   "outputs": [],
   "source": [
    "# Atributos de instância: São atributos declarados dentro de um método construtor\n",
    "\n",
    "# Construtor: utilizado para a construção do objeto\n",
    "\n",
    "# self --> objeto que está executando o método\n",
    "\n",
    "# Por convenção, todo atributo em python é público (é acessado em todo o projeto). \n",
    "# Caso a gente queira deixar privado\n",
    "# precisamos fazer o segunte: self.__nome = nome\n",
    "\n",
    "\n",
    "class Lampada:\n",
    "\n",
    "    def __init__(self, voltagem, cor):\n",
    "        self.voltagem = voltagem\n",
    "        self.cor = cor\n",
    "        self.ligado = True\n",
    "\n",
    "\n",
    "class ContaCorrente:\n",
    "\n",
    "    def __init__(self, numero, limite, saldo):\n",
    "        self.numero = numero\n",
    "        self.limite = limite\n",
    "        self.saldo = saldo\n",
    "\n",
    "\n",
    "class Produto:\n",
    "\n",
    "    def __init__(self, nome, codigo, valor):\n",
    "        self.nome = nome\n",
    "        self.codigo = codigo\n",
    "        self.valor = valor\n",
    "        "
   ]
  },
  {
   "cell_type": "code",
   "execution_count": 11,
   "metadata": {},
   "outputs": [
    {
     "name": "stdout",
     "output_type": "stream",
     "text": [
      "lucas\n",
      "123\n"
     ]
    }
   ],
   "source": [
    "class Cadastro:\n",
    "\n",
    "    def __init__(self, nome, senha, email):\n",
    "        self.__nome = nome\n",
    "        self.__senha = senha\n",
    "        self.__email = email\n",
    "    \n",
    "    def mostra_senha(self):\n",
    "        print(self.__senha)\n",
    "\n",
    "\n",
    "\n",
    "user = Cadastro('lucas', 123, 'lucas_abrantes@hotmail.com')  # criei uma instância da classe\n",
    "\n",
    "# print(user.senha)\n",
    "print(user._Cadastro__nome)  # maneira correta de acessar um atributo privado (nome do procedimento: Name Mangling)\n",
    "\n",
    "\n",
    "user.mostra_senha()\n",
    "\n"
   ]
  },
  {
   "attachments": {},
   "cell_type": "markdown",
   "metadata": {},
   "source": [
    "##### Atributos de instância: ao criarmos instâncias/objeto de uma classe, todas as instâncias terão os mesmo atributos "
   ]
  },
  {
   "cell_type": "code",
   "execution_count": 15,
   "metadata": {},
   "outputs": [
    {
     "name": "stdout",
     "output_type": "stream",
     "text": [
      "arroz\n",
      "815\n",
      "4.5\n",
      "\n",
      "feijao\n",
      "816\n",
      "10.0\n"
     ]
    }
   ],
   "source": [
    "user1 = Produto('arroz', 815, 4.50)\n",
    "\n",
    "user2 = Produto('feijao', 816, 10.00)\n",
    "\n",
    "print(user1.nome)\n",
    "print(user1.codigo)\n",
    "print(user1.valor)\n",
    "\n",
    "print('')\n",
    "\n",
    "print(user2.nome)\n",
    "print(user2.codigo)\n",
    "print(user2.valor)"
   ]
  },
  {
   "attachments": {},
   "cell_type": "markdown",
   "metadata": {},
   "source": [
    "#### Atributos de classe: declarados diretamente na classe, isto é, fora do construtor. Esse valor é compartilhado com todas as instâncias da classe\n"
   ]
  },
  {
   "cell_type": "code",
   "execution_count": 19,
   "metadata": {},
   "outputs": [
    {
     "name": "stdout",
     "output_type": "stream",
     "text": [
      "1\n",
      "320.0\n",
      "4\n",
      "2\n"
     ]
    }
   ],
   "source": [
    "\n",
    "class Produto:\n",
    "\n",
    "    imposto = 4\n",
    "    cont = 0\n",
    "\n",
    "    def __init__(self, nome, codigo, valor):\n",
    "        self.id = Produto.cont + 1\n",
    "        self.nome = nome\n",
    "        self.codigo = codigo\n",
    "        self.valor = (valor * Produto.imposto)\n",
    "        Produto.cont = self.id\n",
    "\n",
    "\n",
    "\n",
    "x = Produto('bat', 85, 80.0)\n",
    "print(Produto.cont)\n",
    "print(x.valor)\n",
    "print(Produto.imposto)  # jeito certo de acessar um atributo de classe\n",
    "\n",
    "\n",
    "y = Produto('bat', 85, 80.0)\n",
    "print(Produto.cont)"
   ]
  },
  {
   "attachments": {},
   "cell_type": "markdown",
   "metadata": {},
   "source": [
    "##### Atributo Dinâmico -->  Um atributo de instâncias que pode ser criado em tempo de execução\n",
    "\n",
    "##### OBS: o atributo será exclusivo da instância que o criou"
   ]
  },
  {
   "cell_type": "code",
   "execution_count": 20,
   "metadata": {},
   "outputs": [
    {
     "name": "stdout",
     "output_type": "stream",
     "text": [
      "5kg\n"
     ]
    }
   ],
   "source": [
    "x.peso = '5kg'\n",
    "\n",
    "print(x.peso)"
   ]
  },
  {
   "cell_type": "code",
   "execution_count": 21,
   "metadata": {},
   "outputs": [
    {
     "ename": "AttributeError",
     "evalue": "'Produto' object has no attribute 'peso'",
     "output_type": "error",
     "traceback": [
      "\u001b[1;31m---------------------------------------------------------------------------\u001b[0m",
      "\u001b[1;31mAttributeError\u001b[0m                            Traceback (most recent call last)",
      "\u001b[1;32mc:\\Users\\lucas\\Downloads\\python\\orientacao-objetos.ipynb Cell 12\u001b[0m in \u001b[0;36m<cell line: 4>\u001b[1;34m()\u001b[0m\n\u001b[0;32m      <a href='vscode-notebook-cell:/c%3A/Users/lucas/Downloads/python/orientacao-objetos.ipynb#X15sZmlsZQ%3D%3D?line=0'>1</a>\u001b[0m \u001b[39m# deletar atributos\u001b[39;00m\n\u001b[0;32m      <a href='vscode-notebook-cell:/c%3A/Users/lucas/Downloads/python/orientacao-objetos.ipynb#X15sZmlsZQ%3D%3D?line=2'>3</a>\u001b[0m \u001b[39mdel\u001b[39;00m x\u001b[39m.\u001b[39mpeso\n\u001b[1;32m----> <a href='vscode-notebook-cell:/c%3A/Users/lucas/Downloads/python/orientacao-objetos.ipynb#X15sZmlsZQ%3D%3D?line=3'>4</a>\u001b[0m \u001b[39mprint\u001b[39m(x\u001b[39m.\u001b[39;49mpeso)\n",
      "\u001b[1;31mAttributeError\u001b[0m: 'Produto' object has no attribute 'peso'"
     ]
    }
   ],
   "source": [
    "# deletar atributos\n",
    "\n",
    "del x.peso\n",
    "print(x.peso)"
   ]
  },
  {
   "cell_type": "code",
   "execution_count": null,
   "metadata": {},
   "outputs": [],
   "source": []
  }
 ],
 "metadata": {
  "kernelspec": {
   "display_name": "Python 3",
   "language": "python",
   "name": "python3"
  },
  "language_info": {
   "codemirror_mode": {
    "name": "ipython",
    "version": 3
   },
   "file_extension": ".py",
   "mimetype": "text/x-python",
   "name": "python",
   "nbconvert_exporter": "python",
   "pygments_lexer": "ipython3",
   "version": "3.10.11"
  },
  "orig_nbformat": 4,
  "vscode": {
   "interpreter": {
    "hash": "4deb986f3ce6d39d52ae36d5b72d27b1f73a8b6b686c07859b235a0545bfc1d1"
   }
  }
 },
 "nbformat": 4,
 "nbformat_minor": 2
}
