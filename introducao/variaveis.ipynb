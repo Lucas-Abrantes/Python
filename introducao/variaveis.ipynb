{
 "cells": [
  {
   "attachments": {},
   "cell_type": "markdown",
   "metadata": {},
   "source": [
    "#### Variáveis - responsável por armazenar diferentes tipos de dados na memória do computador.Podendo sempre ser sobrescrita.\n",
    "\n",
    "\n",
    "##### Regras para variáveis: \n",
    "###### --> letras;\n",
    "###### --> números;\n",
    "###### --> underline para separar letra e número;\n",
    "###### --> não pode começar com número. EX:   1_nome (error);\n",
    "###### --> linguagem case sensitiv (difere letras maipusculas e minúsculas);"
   ]
  },
  {
   "cell_type": "code",
   "execution_count": 1,
   "metadata": {},
   "outputs": [
    {
     "name": "stdout",
     "output_type": "stream",
     "text": [
      "Bem-vindo(a) ao Python\n"
     ]
    }
   ],
   "source": [
    "nome = 'Bem-vindo(a) ao Python'\n",
    "print(nome)"
   ]
  },
  {
   "attachments": {},
   "cell_type": "markdown",
   "metadata": {},
   "source": [
    "##### Strings: são um conjunto de caracteres. Estão entre aspas simples ou duplas"
   ]
  },
  {
   "cell_type": "code",
   "execution_count": 2,
   "metadata": {},
   "outputs": [
    {
     "name": "stdout",
     "output_type": "stream",
     "text": [
      "Lucas\n"
     ]
    }
   ],
   "source": [
    "# método title() --> transforma cada inicio de uma palavra em maiúsculo\n",
    "\n",
    "nome = 'lucas'\n",
    "print(nome.title())"
   ]
  },
  {
   "cell_type": "code",
   "execution_count": 3,
   "metadata": {},
   "outputs": [
    {
     "name": "stdout",
     "output_type": "stream",
     "text": [
      "lucas\n"
     ]
    }
   ],
   "source": [
    "# método lower() --> transforma em minúsculo\n",
    "nome = 'LUCAS'\n",
    "print(nome.lower())\n"
   ]
  },
  {
   "cell_type": "code",
   "execution_count": 4,
   "metadata": {},
   "outputs": [
    {
     "name": "stdout",
     "output_type": "stream",
     "text": [
      "LUCAS\n"
     ]
    }
   ],
   "source": [
    "# método upper() --> transforma tudo em maiúsculo\n",
    "nome = 'lucas'\n",
    "print(nome.upper())"
   ]
  },
  {
   "attachments": {},
   "cell_type": "markdown",
   "metadata": {},
   "source": [
    "##### Concatenação: unir diferentes strings no programa."
   ]
  },
  {
   "cell_type": "code",
   "execution_count": 7,
   "metadata": {},
   "outputs": [
    {
     "name": "stdout",
     "output_type": "stream",
     "text": [
      "lucas abrantes\n"
     ]
    }
   ],
   "source": [
    "primeiro_nome = 'lucas '\n",
    "segundo_nome = 'abrantes'\n",
    "print(primeiro_nome + segundo_nome)"
   ]
  },
  {
   "cell_type": "code",
   "execution_count": 11,
   "metadata": {},
   "outputs": [
    {
     "name": "stdout",
     "output_type": "stream",
     "text": [
      "\tBem-vindo, Lucas Abrantes!\n"
     ]
    }
   ],
   "source": [
    "primeiro_nome = 'lucas '\n",
    "segundo_nome = 'abrantes'\n",
    "nome_completo = primeiro_nome + '' + segundo_nome\n",
    "print(f'\\tBem-vindo, {nome_completo.title()}!')"
   ]
  },
  {
   "attachments": {},
   "cell_type": "markdown",
   "metadata": {},
   "source": [
    "##### Python considera espços vazios em strings, ou seja, 'python' e diferente de 'python   '. Dessa forma, o interpretador trata isso de forma diferente quando for necessário realizar algum tipo de comparação.\n"
   ]
  },
  {
   "cell_type": "code",
   "execution_count": 15,
   "metadata": {},
   "outputs": [
    {
     "data": {
      "text/plain": [
       "'python'"
      ]
     },
     "execution_count": 15,
     "metadata": {},
     "output_type": "execute_result"
    }
   ],
   "source": [
    "# método rstrip() --> remove espaços em branco do lado direito da string.\n",
    "\n",
    "linguagem = 'python  '\n",
    "linguagem.rstrip()\n"
   ]
  },
  {
   "attachments": {},
   "cell_type": "markdown",
   "metadata": {},
   "source": [
    "\n",
    "##### O Python faz essas alterações de maneira temporária, isto é, é necessário uma variável para alterar o dado fornecido"
   ]
  },
  {
   "cell_type": "code",
   "execution_count": 21,
   "metadata": {},
   "outputs": [
    {
     "data": {
      "text/plain": [
       "'python  '"
      ]
     },
     "execution_count": 21,
     "metadata": {},
     "output_type": "execute_result"
    }
   ],
   "source": [
    "linguagem = 'python  '\n",
    "linguagem.rstrip()\n",
    "linguagem"
   ]
  },
  {
   "cell_type": "code",
   "execution_count": 22,
   "metadata": {},
   "outputs": [
    {
     "data": {
      "text/plain": [
       "'python'"
      ]
     },
     "execution_count": 22,
     "metadata": {},
     "output_type": "execute_result"
    }
   ],
   "source": [
    "linguagem = 'python  '\n",
    "linguagem_2 = linguagem.rstrip()\n",
    "linguagem_2"
   ]
  },
  {
   "cell_type": "code",
   "execution_count": 23,
   "metadata": {},
   "outputs": [
    {
     "data": {
      "text/plain": [
       "'python'"
      ]
     },
     "execution_count": 23,
     "metadata": {},
     "output_type": "execute_result"
    }
   ],
   "source": [
    "# método lstrip() --> remove espaços em branco do lado esquerda da string\n",
    "\n",
    "linguagem = '  python'\n",
    "linguagem.lstrip()"
   ]
  },
  {
   "cell_type": "code",
   "execution_count": 24,
   "metadata": {},
   "outputs": [
    {
     "data": {
      "text/plain": [
       "'python'"
      ]
     },
     "execution_count": 24,
     "metadata": {},
     "output_type": "execute_result"
    }
   ],
   "source": [
    "# método strip() --> remove espaços vazios de ambos os lados\n",
    "linguagem = '  python  '\n",
    "linguagem.strip()"
   ]
  },
  {
   "attachments": {},
   "cell_type": "markdown",
   "metadata": {},
   "source": [
    "##### Utilizar apóstrofo entre as simples causa erro em Python, pois ele considera até o apóstrofo como sendo string, mas o restante ele entende como código"
   ]
  },
  {
   "cell_type": "code",
   "execution_count": 26,
   "metadata": {},
   "outputs": [
    {
     "ename": "SyntaxError",
     "evalue": "invalid syntax (3680746451.py, line 1)",
     "output_type": "error",
     "traceback": [
      "\u001b[1;36m  Input \u001b[1;32mIn [26]\u001b[1;36m\u001b[0m\n\u001b[1;33m    linguagem = 'One of Python's strengths is its diverse community.'\u001b[0m\n\u001b[1;37m                               ^\u001b[0m\n\u001b[1;31mSyntaxError\u001b[0m\u001b[1;31m:\u001b[0m invalid syntax\n"
     ]
    }
   ],
   "source": [
    "linguagem = 'One of Python's strengths is its diverse community.'\n",
    "print(linguagem)"
   ]
  },
  {
   "cell_type": "code",
   "execution_count": 27,
   "metadata": {},
   "outputs": [
    {
     "name": "stdout",
     "output_type": "stream",
     "text": [
      "One of Python's strengths is its diverse community.\n"
     ]
    }
   ],
   "source": [
    "# devemos utilizar aspas duplas\n",
    "linguagem = \"One of Python's strengths is its diverse community.\"\n",
    "print(linguagem)"
   ]
  },
  {
   "cell_type": "code",
   "execution_count": 33,
   "metadata": {},
   "outputs": [
    {
     "name": "stdout",
     "output_type": "stream",
     "text": [
      "Meu nome é Lucas e tenho 22 anos\n"
     ]
    }
   ],
   "source": [
    "num = 22\n",
    "menssagem = 'Lucas'\n",
    "print('Meu nome é ' + menssagem + ' e tenho '+ str(num) + ' anos')"
   ]
  }
 ],
 "metadata": {
  "kernelspec": {
   "display_name": "Python 3",
   "language": "python",
   "name": "python3"
  },
  "language_info": {
   "codemirror_mode": {
    "name": "ipython",
    "version": 3
   },
   "file_extension": ".py",
   "mimetype": "text/x-python",
   "name": "python",
   "nbconvert_exporter": "python",
   "pygments_lexer": "ipython3",
   "version": "3.9.7"
  },
  "orig_nbformat": 4
 },
 "nbformat": 4,
 "nbformat_minor": 2
}
