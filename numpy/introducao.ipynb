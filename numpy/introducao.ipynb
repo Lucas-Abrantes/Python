{
 "cells": [
  {
   "attachments": {},
   "cell_type": "markdown",
   "metadata": {},
   "source": [
    "##### Numpy é uma biblioteca que permite trabalhar com dados em n-dimensões.Altamente eficiente para grandes conjuntos de dados. NumPy contém apenas um tipo de dado"
   ]
  },
  {
   "cell_type": "code",
   "execution_count": 2,
   "metadata": {},
   "outputs": [],
   "source": [
    "import numpy as np"
   ]
  },
  {
   "cell_type": "code",
   "execution_count": 3,
   "metadata": {},
   "outputs": [
    {
     "name": "stdout",
     "output_type": "stream",
     "text": [
      "[[  1   2   3   4   5   6]\n",
      " [  4   6   7   8   9  10]\n",
      " [ 80  90 100 200 300 500]]\n"
     ]
    }
   ],
   "source": [
    "# cirando um array bidimensional\n",
    "\n",
    "dados = np.array([[1, 2, 3, 4, 5, 6], [4, 6,7,8,9,10], [80,90,100,200,300,500]])\n",
    "print(dados)"
   ]
  },
  {
   "cell_type": "code",
   "execution_count": 4,
   "metadata": {},
   "outputs": [
    {
     "data": {
      "text/plain": [
       "7"
      ]
     },
     "execution_count": 4,
     "metadata": {},
     "output_type": "execute_result"
    }
   ],
   "source": [
    "# elemento na linha 1 / coluna 2\n",
    "dados[1, 2]"
   ]
  },
  {
   "cell_type": "code",
   "execution_count": 5,
   "metadata": {},
   "outputs": [
    {
     "data": {
      "text/plain": [
       "array([ 4,  6,  7,  8,  9, 10])"
      ]
     },
     "execution_count": 5,
     "metadata": {},
     "output_type": "execute_result"
    }
   ],
   "source": [
    "# seleciona toda a linha 1\n",
    "dados[1]"
   ]
  },
  {
   "cell_type": "code",
   "execution_count": 6,
   "metadata": {},
   "outputs": [
    {
     "data": {
      "text/plain": [
       "array([[  4,   6,   7,   8,   9,  10],\n",
       "       [ 80,  90, 100, 200, 300, 500]])"
      ]
     },
     "execution_count": 6,
     "metadata": {},
     "output_type": "execute_result"
    }
   ],
   "source": [
    "# seleciona todas as linhas a partir da linha 1\n",
    "dados[1:]"
   ]
  },
  {
   "cell_type": "code",
   "execution_count": 7,
   "metadata": {},
   "outputs": [
    {
     "data": {
      "text/plain": [
       "array([  3,   7, 100])"
      ]
     },
     "execution_count": 7,
     "metadata": {},
     "output_type": "execute_result"
    }
   ],
   "source": [
    "# percorre todas as linhas, mas só seleciona os elementos da coluna 2\n",
    "dados[:, 2]"
   ]
  },
  {
   "cell_type": "code",
   "execution_count": 8,
   "metadata": {},
   "outputs": [
    {
     "data": {
      "text/plain": [
       "array([[  2,   3],\n",
       "       [  6,   7],\n",
       "       [ 90, 100]])"
      ]
     },
     "execution_count": 8,
     "metadata": {},
     "output_type": "execute_result"
    }
   ],
   "source": [
    "# seleciona somente os elementos da coluna 1 e 2\n",
    "dados[:, 1:3]"
   ]
  },
  {
   "cell_type": "code",
   "execution_count": 9,
   "metadata": {},
   "outputs": [
    {
     "data": {
      "text/plain": [
       "array([6, 7])"
      ]
     },
     "execution_count": 9,
     "metadata": {},
     "output_type": "execute_result"
    }
   ],
   "source": [
    "# na linha 1 seleciona apenas os elementos da colunas 1 e 2\n",
    "dados[1, 1:3]"
   ]
  },
  {
   "cell_type": "code",
   "execution_count": 10,
   "metadata": {},
   "outputs": [
    {
     "data": {
      "text/plain": [
       "array([  9, 300])"
      ]
     },
     "execution_count": 10,
     "metadata": {},
     "output_type": "execute_result"
    }
   ],
   "source": [
    "# percorre as linhas 1 e 2 e seleciona os elementos da coluna 4\n",
    "dados[1:3, 4]"
   ]
  },
  {
   "attachments": {},
   "cell_type": "markdown",
   "metadata": {},
   "source": [
    "##### Operações com vetores"
   ]
  },
  {
   "cell_type": "code",
   "execution_count": 11,
   "metadata": {},
   "outputs": [
    {
     "name": "stdout",
     "output_type": "stream",
     "text": [
      "[  5  13 190]\n"
     ]
    }
   ],
   "source": [
    "# somar duas colunas\n",
    "\n",
    "coluna1 = dados[:, 1]  # seleciona os elementos da coluna 1\n",
    "coluna2 = dados[:, 2]  # seleciona os elementos da coluna 2\n",
    "\n",
    "coluna = coluna1 + coluna2\n",
    "\n",
    "print(coluna)"
   ]
  },
  {
   "cell_type": "code",
   "execution_count": 12,
   "metadata": {},
   "outputs": [
    {
     "name": "stdout",
     "output_type": "stream",
     "text": [
      "[ -1  -1 -10]\n"
     ]
    }
   ],
   "source": [
    "# subtrair duas colunas\n",
    "\n",
    "coluna1 = dados[:, 1]  # seleciona os elementos da coluna 1\n",
    "coluna2 = dados[:, 2]  # seleciona os elementos da coluna 2\n",
    "\n",
    "coluna = coluna1 - coluna2\n",
    "\n",
    "print(coluna)"
   ]
  },
  {
   "cell_type": "code",
   "execution_count": 13,
   "metadata": {},
   "outputs": [
    {
     "name": "stdout",
     "output_type": "stream",
     "text": [
      "[   6   42 9000]\n"
     ]
    }
   ],
   "source": [
    "# multiplicar duas colunas\n",
    "\n",
    "coluna1 = dados[:, 1]  # seleciona os elementos da coluna 1\n",
    "coluna2 = dados[:, 2]  # seleciona os elementos da coluna 2\n",
    "\n",
    "coluna = coluna1 * coluna2\n",
    "\n",
    "print(coluna)"
   ]
  },
  {
   "cell_type": "code",
   "execution_count": 14,
   "metadata": {},
   "outputs": [
    {
     "name": "stdout",
     "output_type": "stream",
     "text": [
      "[0.66666667 0.85714286 0.9       ]\n"
     ]
    }
   ],
   "source": [
    "# dividir duas colunas\n",
    "\n",
    "coluna1 = dados[:, 1]  # seleciona os elementos da coluna 1\n",
    "coluna2 = dados[:, 2]  # seleciona os elementos da coluna 2\n",
    "\n",
    "coluna = coluna1 / coluna2\n",
    "\n",
    "print(coluna)"
   ]
  },
  {
   "attachments": {},
   "cell_type": "markdown",
   "metadata": {},
   "source": [
    "##### Métodos adicionais\n"
   ]
  },
  {
   "cell_type": "code",
   "execution_count": 15,
   "metadata": {},
   "outputs": [
    {
     "name": "stdout",
     "output_type": "stream",
     "text": [
      "[ 4  6  7  8  9 10]\n",
      "10\n"
     ]
    }
   ],
   "source": [
    "# selecionar toda a linha 1 e selecionar o maior valor\n",
    "dados_result = dados[1]\n",
    "print(dados_result)\n",
    "\n",
    "print(dados_result.max())"
   ]
  },
  {
   "cell_type": "code",
   "execution_count": 16,
   "metadata": {},
   "outputs": [
    {
     "name": "stdout",
     "output_type": "stream",
     "text": [
      "4\n"
     ]
    }
   ],
   "source": [
    "# pegar o menor valor\n",
    "\n",
    "print(dados_result.min())"
   ]
  },
  {
   "cell_type": "code",
   "execution_count": 17,
   "metadata": {},
   "outputs": [
    {
     "name": "stdout",
     "output_type": "stream",
     "text": [
      "7.333333333333333\n"
     ]
    }
   ],
   "source": [
    "# pegar a média dessa linha\n",
    "print(dados_result.mean())"
   ]
  },
  {
   "cell_type": "code",
   "execution_count": 18,
   "metadata": {},
   "outputs": [
    {
     "data": {
      "text/plain": [
       "array([ 80,  90, 100, 200, 300, 500])"
      ]
     },
     "execution_count": 18,
     "metadata": {},
     "output_type": "execute_result"
    }
   ],
   "source": [
    "# selecionar o valor máximo em cada coluna\n",
    "\n",
    "dados.max(axis=0)"
   ]
  },
  {
   "cell_type": "code",
   "execution_count": 19,
   "metadata": {},
   "outputs": [
    {
     "data": {
      "text/plain": [
       "array([  6,  10, 500])"
      ]
     },
     "execution_count": 19,
     "metadata": {},
     "output_type": "execute_result"
    }
   ],
   "source": [
    "# valor máximo em cada linha\n",
    "\n",
    "dados.max(axis=1)"
   ]
  },
  {
   "cell_type": "code",
   "execution_count": 20,
   "metadata": {},
   "outputs": [
    {
     "data": {
      "text/plain": [
       "array([1, 2, 3, 4, 5, 6])"
      ]
     },
     "execution_count": 20,
     "metadata": {},
     "output_type": "execute_result"
    }
   ],
   "source": [
    "# selecionar o menor valor na coluna\n",
    "\n",
    "dados.min(axis=0)"
   ]
  },
  {
   "cell_type": "code",
   "execution_count": 21,
   "metadata": {},
   "outputs": [
    {
     "data": {
      "text/plain": [
       "array([ 1,  4, 80])"
      ]
     },
     "execution_count": 21,
     "metadata": {},
     "output_type": "execute_result"
    }
   ],
   "source": [
    "dados.min(axis=1)"
   ]
  },
  {
   "attachments": {},
   "cell_type": "markdown",
   "metadata": {},
   "source": [
    "##### Valores booleanos"
   ]
  },
  {
   "cell_type": "code",
   "execution_count": 22,
   "metadata": {},
   "outputs": [],
   "source": [
    "array_1 = np.array([1, 2, 3, 4, 5])\n",
    "array_2 = np.array([\"blue\", \"blue\", \"red\", \"blue\"])\n",
    "array_3 = np.array([80.0, 103.4, 96.9, 200.3])"
   ]
  },
  {
   "cell_type": "code",
   "execution_count": 23,
   "metadata": {},
   "outputs": [
    {
     "name": "stdout",
     "output_type": "stream",
     "text": [
      "[ True  True False False False]\n"
     ]
    }
   ],
   "source": [
    "# compara se cada elemento do array é menor do que 3\n",
    "# em seguida, é devolvido uma lista com todos os resultados\n",
    "result_1 = array_1 < 3\n",
    "print(result_1)"
   ]
  },
  {
   "cell_type": "code",
   "execution_count": 24,
   "metadata": {},
   "outputs": [
    {
     "name": "stdout",
     "output_type": "stream",
     "text": [
      "[ True  True False  True]\n"
     ]
    }
   ],
   "source": [
    "result_2 = array_2 == 'blue'\n",
    "print(result_2)"
   ]
  },
  {
   "cell_type": "code",
   "execution_count": 25,
   "metadata": {},
   "outputs": [
    {
     "name": "stdout",
     "output_type": "stream",
     "text": [
      "[False  True False  True]\n"
     ]
    }
   ],
   "source": [
    "result_3 = array_3 > 100\n",
    "print(result_3)"
   ]
  },
  {
   "cell_type": "code",
   "execution_count": 26,
   "metadata": {},
   "outputs": [
    {
     "name": "stdout",
     "output_type": "stream",
     "text": [
      "[103.4 200.3]\n"
     ]
    }
   ],
   "source": [
    "# filtar valores a partir de booleanos\n",
    "# atribuo o resultado da opreção à nova variável\n",
    "# dentro no meu array_3 e faço a comparação interna\n",
    "# se cada elemento naquela posição é maior do 100\n",
    "novo_array_3 = array_3[result_3]\n",
    "print(novo_array_3)"
   ]
  },
  {
   "attachments": {},
   "cell_type": "markdown",
   "metadata": {},
   "source": [
    "##### Modificando arrays"
   ]
  },
  {
   "cell_type": "code",
   "execution_count": 27,
   "metadata": {},
   "outputs": [
    {
     "name": "stdout",
     "output_type": "stream",
     "text": [
      "['orange' 'blue' 'black' 'blue' 'purple']\n"
     ]
    }
   ],
   "source": [
    "a = np.array(['red', 'blue', 'black', 'blue', 'purple'])\n",
    "a[0] = 'orange'\n",
    "print(a)"
   ]
  },
  {
   "cell_type": "code",
   "execution_count": null,
   "metadata": {},
   "outputs": [],
   "source": [
    "# podemos alterar vários elementos a partir de um dado intervalo\n",
    "a[3:] = 'pink'\n",
    "print(a)"
   ]
  },
  {
   "cell_type": "code",
   "execution_count": 29,
   "metadata": {},
   "outputs": [
    {
     "name": "stdout",
     "output_type": "stream",
     "text": [
      "[[  1   1   1   1   1]\n",
      " [  1   1 100 100 100]\n",
      " [  1   1   1   1   1]]\n"
     ]
    }
   ],
   "source": [
    "# o mesmo é válido para arrays 2D\n",
    "ones = np.array([[1, 1, 1, 1, 1],\n",
    "                 [1, 1, 1, 1, 1],\n",
    "                 [1, 1, 1, 1, 1]])\n",
    "ones[1,2:] = 100\n",
    "print(ones)"
   ]
  },
  {
   "cell_type": "code",
   "execution_count": 30,
   "metadata": {},
   "outputs": [
    {
     "name": "stdout",
     "output_type": "stream",
     "text": [
      "[  1   2 100 100 100 100 100 100 100 100]\n"
     ]
    }
   ],
   "source": [
    "arr = np.array([1, 2, 3, 4, 5, 6, 7, 8, 9, 10])\n",
    "arr_aux = arr > 2\n",
    "# verifica em cada indice se o valor for maior do 2\n",
    "# depois atribue o valor 100\n",
    "arr[arr_aux] = 100\n",
    "\n",
    "print(arr)"
   ]
  },
  {
   "cell_type": "code",
   "execution_count": 33,
   "metadata": {},
   "outputs": [
    {
     "name": "stdout",
     "output_type": "stream",
     "text": [
      "[ 1  2 10 10 10 10 10 10 10 10]\n"
     ]
    }
   ],
   "source": [
    "# outra forma mais convencional\n",
    "arr = np.array([1, 2, 3, 4, 5, 6, 7, 8, 9, 10])\n",
    "arr[arr > 2] = 10\n",
    "print(arr)"
   ]
  },
  {
   "cell_type": "code",
   "execution_count": 37,
   "metadata": {},
   "outputs": [
    {
     "name": "stdout",
     "output_type": "stream",
     "text": [
      "[ 5  5  5  5  5  6  7  8  9 10]\n"
     ]
    }
   ],
   "source": [
    "arr = np.array([1, 2, 3, 4, 5, 6, 7, 8, 9, 10])\n",
    "x = arr.mean()\n",
    "arr[arr < x] = x\n",
    "print(arr)"
   ]
  },
  {
   "cell_type": "code",
   "execution_count": 44,
   "metadata": {},
   "outputs": [
    {
     "data": {
      "text/plain": [
       "array([[ 1,  2,  3,  4,  5],\n",
       "       [ 6, 25,  8,  9, 10],\n",
       "       [11, 25, 13, 14, 15]])"
      ]
     },
     "execution_count": 44,
     "metadata": {},
     "output_type": "execute_result"
    }
   ],
   "source": [
    "# matriz 2D\n",
    "\n",
    "arr = np.array([[1, 2, 3, 4, 5],\n",
    "               [6, 7, 8, 9, 10],\n",
    "               [11, 12, 13, 14, 15]])\n",
    "\n",
    "# primeiro eu faço uma comparação pegando todas as linhas da coluna 1\n",
    "# verifico se todos os elementos são maiores do que 5\n",
    "# atribuo o valor 25 na coluna 1\n",
    "arr[arr[:, 1] > 5, 1] = 25\n",
    "arr "
   ]
  }
 ],
 "metadata": {
  "kernelspec": {
   "display_name": "base",
   "language": "python",
   "name": "python3"
  },
  "language_info": {
   "codemirror_mode": {
    "name": "ipython",
    "version": 3
   },
   "file_extension": ".py",
   "mimetype": "text/x-python",
   "name": "python",
   "nbconvert_exporter": "python",
   "pygments_lexer": "ipython3",
   "version": "3.9.7"
  },
  "orig_nbformat": 4
 },
 "nbformat": 4,
 "nbformat_minor": 2
}
