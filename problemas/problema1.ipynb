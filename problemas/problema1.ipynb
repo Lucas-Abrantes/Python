{
 "cells": [
  {
   "attachments": {},
   "cell_type": "markdown",
   "metadata": {},
   "source": [
    "##### Crie um programa que:\n",
    "    .Cadastre o nome de um aluno;\n",
    "    .Exiba o nome dos alunos juntamento com a matrícula;\n",
    "    .Exiba as notas de cada aluno;\n",
    "    .Se o aluno foi aprovado ou não;\n",
    "    .Quantos alunos há no curso;"
   ]
  },
  {
   "cell_type": "code",
   "execution_count": 73,
   "metadata": {},
   "outputs": [
    {
     "name": "stdout",
     "output_type": "stream",
     "text": [
      "['marcos']\n"
     ]
    }
   ],
   "source": [
    "alunos = {\n",
    "    'id':[],\n",
    "    'nomes': [],\n",
    "    'idades':[]\n",
    "}\n",
    "\n",
    "def cadastraAluno():\n",
    "    nome_cadastro = str(input('Digite o nome para cadastro: '))\n",
    "    if isinstance(alunos['nomes'], list):\n",
    "        alunos['nomes'].append(nome_cadastro)\n",
    "\n",
    "\n",
    "def exibeTurma(id, aluno):\n",
    "    print(\"\\t  ID   ||  NOME\")\n",
    "    print('')\n",
    "    print(f\"\\t | {id}  --  {aluno} |\")    \n",
    "\n",
    "\n",
    "\n",
    "def exibeNota():\n",
    "    return\n",
    "\n",
    "\n",
    "def calculaNota():\n",
    "    return   \n"
   ]
  },
  {
   "cell_type": "code",
   "execution_count": 59,
   "metadata": {},
   "outputs": [
    {
     "data": {
      "text/plain": [
       "[]"
      ]
     },
     "execution_count": 59,
     "metadata": {},
     "output_type": "execute_result"
    }
   ],
   "source": [
    "\n",
    "alunos_novos = {\n",
    "    'id':[],\n",
    "    'nomes': []\n",
    "    }\n",
    "\n",
    "\n",
    "def cadastraAluno():\n",
    "    nome_cadastro = str(input('Digite o nome para cadastro: '))\n",
    "    for aluno in alunos_novos['nomes']:\n",
    "        if (nome_cadastro in alunos_novos['nomes']):\n",
    "            return\n",
    "        return alunos_novos['nomes'].append(nome_cadastro)\n",
    "cadastraAluno()\n",
    "alunos_novos['nomes']"
   ]
  },
  {
   "cell_type": "code",
   "execution_count": 69,
   "metadata": {},
   "outputs": [
    {
     "name": "stdout",
     "output_type": "stream",
     "text": [
      "{'pessoas1': ['João', 'Maria', 'Pedro', 'lplplp']}\n"
     ]
    }
   ],
   "source": [
    "meu_dicionario = {\n",
    "    \"pessoas1\": [\"João\", \"Maria\", \"Pedro\"],\n",
    "}\n",
    "\n",
    "# Adicionando o nome \"Carlos\" em todas as listas de nomes do dicionário\n",
    "novo_nome = str(input('digite algo: '))\n",
    "if isinstance(meu_dicionario[\"pessoas1\"], list):\n",
    "        meu_dicionario[\"pessoas1\"].append(novo_nome)\n",
    "\n",
    "# Imprimindo o dicionário atualizado\n",
    "print(meu_dicionario)"
   ]
  }
 ],
 "metadata": {
  "kernelspec": {
   "display_name": "base",
   "language": "python",
   "name": "python3"
  },
  "language_info": {
   "codemirror_mode": {
    "name": "ipython",
    "version": 3
   },
   "file_extension": ".py",
   "mimetype": "text/x-python",
   "name": "python",
   "nbconvert_exporter": "python",
   "pygments_lexer": "ipython3",
   "version": "3.11.4"
  },
  "orig_nbformat": 4
 },
 "nbformat": 4,
 "nbformat_minor": 2
}
